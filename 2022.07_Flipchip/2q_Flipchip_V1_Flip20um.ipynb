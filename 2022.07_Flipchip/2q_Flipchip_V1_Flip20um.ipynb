{
 "cells": [
  {
   "cell_type": "code",
   "execution_count": 1,
   "metadata": {},
   "outputs": [
    {
     "ename": "AttributeError",
     "evalue": "'list' object has no attribute 'write'",
     "output_type": "error",
     "traceback": [
      "\u001b[1;31m---------------------------------------------------------------------------\u001b[0m",
      "\u001b[1;31mAttributeError\u001b[0m                            Traceback (most recent call last)",
      "\u001b[1;32mc:\\Users\\kimje\\Desktop\\Project\\Qintern\\2q_Flipchip_V1_Flip20um.ipynb 셀 1\u001b[0m in \u001b[0;36m<module>\u001b[1;34m\u001b[0m\n\u001b[0;32m      <a href='vscode-notebook-cell:/c%3A/Users/kimje/Desktop/Project/Qintern/2q_Flipchip_V1_Flip20um.ipynb#X50sZmlsZQ%3D%3D?line=0'>1</a>\u001b[0m a\u001b[39m=\u001b[39m[]\n\u001b[1;32m----> <a href='vscode-notebook-cell:/c%3A/Users/kimje/Desktop/Project/Qintern/2q_Flipchip_V1_Flip20um.ipynb#X50sZmlsZQ%3D%3D?line=1'>2</a>\u001b[0m a\u001b[39m.\u001b[39;49mwrite\n",
      "\u001b[1;31mAttributeError\u001b[0m: 'list' object has no attribute 'write'"
     ]
    }
   ],
   "source": [
    "a=[]\n",
    "a.write"
   ]
  },
  {
   "cell_type": "code",
   "execution_count": 1,
   "metadata": {},
   "outputs": [],
   "source": [
    "import warnings\n",
    "warnings.filterwarnings(\"ignore\")\n",
    "%load_ext autoreload\n",
    "%autoreload 2\n",
    "from qiskit_metal import Dict, MetalGUI, designs\n",
    "from qiskit_metal.qlibrary.qubits.transmon_pocket import TransmonPocket\n",
    "from qiskit_metal.qlibrary.qubits.transmon_pocket_6 import TransmonPocket6\n",
    "from qiskit_metal.qlibrary.tlines.meandered import RouteMeander\n",
    "from qiskit_metal.qlibrary.tlines.straight_path import RouteStraight\n",
    "from qiskit_metal.qlibrary.terminations.launchpad_wb_coupled import LaunchpadWirebondCoupled\n",
    "from qiskit_metal.qlibrary.couplers.coupled_line_tee import CoupledLineTee\n",
    "from qiskit_metal.qlibrary.user_components.left_coupler import LeftCoupler\n",
    "from qiskit_metal.qlibrary.user_components.right_coupler import RightCoupler\n",
    "from qiskit_metal.qlibrary.user_components.straightdown_coupler import StraightDownCoupler\n",
    "from qiskit_metal.qlibrary.user_components.straightup_coupler import StraightUpCoupler"
   ]
  },
  {
   "cell_type": "code",
   "execution_count": 25,
   "metadata": {},
   "outputs": [],
   "source": [
    "design = designs.DesignFlipChip({}, overwrite_enabled=True)\n",
    "gui = MetalGUI(design)"
   ]
  },
  {
   "cell_type": "code",
   "execution_count": 3,
   "metadata": {},
   "outputs": [],
   "source": [
    "design.delete_all_components()"
   ]
  },
  {
   "cell_type": "code",
   "execution_count": 4,
   "metadata": {},
   "outputs": [
    {
     "data": {
      "text/plain": [
       "'20um'"
      ]
     },
     "execution_count": 4,
     "metadata": {},
     "output_type": "execute_result"
    }
   ],
   "source": [
    "design.get_chip_z('Q_chip')"
   ]
  },
  {
   "cell_type": "code",
   "execution_count": 3,
   "metadata": {},
   "outputs": [],
   "source": [
    "design.chips['C_chip'].size['size_x']='8mm'\n",
    "design.chips['C_chip'].size['size_y']='8mm'\n",
    "design.chips['Q_chip'].size['size_x']='8mm'\n",
    "design.chips['Q_chip'].size['size_y']='8mm'\n",
    "design.chips['Q_chip'].size['center_z']='20um'"
   ]
  },
  {
   "cell_type": "markdown",
   "metadata": {},
   "source": [
    "# Resonator length"
   ]
  },
  {
   "cell_type": "code",
   "execution_count": 5,
   "metadata": {},
   "outputs": [],
   "source": [
    "from qiskit_metal.analyses.em.cpw_calculations import guided_wavelength\n",
    "\n",
    "def find_resonator_length(frequency, line_width, line_gap, N): \n",
    "    #frequency in GHz\n",
    "    #line_width/line_gap in um\n",
    "    #N -> 2 for lambda/2, 4 for lambda/4\n",
    "    \n",
    "    [lambdaG, etfSqrt, q] = guided_wavelength(frequency*10**9, line_width*10**-6,\n",
    "                                              line_gap*10**-6, 750*10**-6, 200*10**-9)\n",
    "    return str(lambdaG/N*10**3)+\" mm\""
   ]
  },
  {
   "cell_type": "code",
   "execution_count": 6,
   "metadata": {},
   "outputs": [
    {
     "name": "stdout",
     "output_type": "stream",
     "text": [
      "[8.103254683870285, 7.874788339841421, 7.658346540209131]\n"
     ]
    }
   ],
   "source": [
    "resonator_length_2=[]\n",
    "for i in range(3):\n",
    "    a=find_resonator_length(7.2+i*0.2,10,6,2)\n",
    "    a=a.strip('mm')\n",
    "    a=float(a)-0.35\n",
    "    resonator_length_2.append(a)\n",
    "print(resonator_length_2)\n"
   ]
  },
  {
   "cell_type": "code",
   "execution_count": 12,
   "metadata": {},
   "outputs": [
    {
     "name": "stdout",
     "output_type": "stream",
     "text": [
      "[4.226627341935142, 4.1123941699207105, 4.004173270104565]\n"
     ]
    }
   ],
   "source": [
    "resonator_length_4=[]\n",
    "for i in range(3):\n",
    "    a=find_resonator_length(7.2+i*0.2,10,6,4)\n",
    "    a=a.strip('mm')\n",
    "    a=float(a)\n",
    "    resonator_length_4.append(a)\n",
    "print(resonator_length_4)\n"
   ]
  },
  {
   "cell_type": "markdown",
   "metadata": {},
   "source": [
    "# Flipchip"
   ]
  },
  {
   "cell_type": "code",
   "execution_count": 26,
   "metadata": {},
   "outputs": [],
   "source": [
    "cp0 = dict(down = dict(loc_W=1, loc_H=-1, pad_width='120um'))\n",
    "cp1 = dict(down = dict(loc_W=-1, loc_H=-1, pad_width='120um'))\n",
    "\n",
    "q0=[TransmonPocket6(design, 'Q0', options=dict(pos_x='-2000um',\n",
    "                                            pos_y='-2000um',\n",
    "                                            chip='Q_chip',\n",
    "                                            connection_pads=cp0))]\n",
    "q1=[TransmonPocket6(design, 'Q1', options=dict(pos_x='2000um',\n",
    "                                            pos_y='-2000um',\n",
    "                                            chip='Q_chip',\n",
    "                                            connection_pads=cp1))]\n",
    "qubits=q0+q1\n",
    "\n",
    "q0x=float(qubits[0].options.pos_x.strip('um'))\n",
    "q0y=float(qubits[0].options.pos_y.strip('um'))\n",
    "q1x=float(qubits[1].options.pos_x.strip('um'))\n",
    "q1y=float(qubits[1].options.pos_y.strip('um'))\n",
    "\n",
    "c0 = LeftCoupler(design, \"c0\", options=dict(pos_x=f\"{q0x-100}um\",\n",
    "                                              pos_y=f\"{q0y+100}um\",\n",
    "                                              pad_width=\"150um\",\n",
    "                                              pad_height=\"80um\",\n",
    "                                              cpw_stub_height=\"200um\",\n",
    "                                              chip=\"C_chip\"))\n",
    "c1 = RightCoupler(design, \"c1\", options=dict(pos_x=f\"{q1x+100}um\",\n",
    "                                              pos_y=f\"{q1y+100}um\",\n",
    "                                              pad_width=\"150um\",\n",
    "                                              pad_height=\"80um\",\n",
    "                                              cpw_stub_height=\"200um\",\n",
    "                                              chip=\"C_chip\"))  \n",
    "\n",
    "design.rebuild()\n",
    "gui.rebuild()\n",
    "gui.autoscale()"
   ]
  },
  {
   "cell_type": "code",
   "execution_count": 26,
   "metadata": {},
   "outputs": [],
   "source": [
    "#planar랑 똑같은 디자인\n",
    "cp0 = dict(down = dict(loc_W=1, loc_H=-1, pad_width='120um'))\n",
    "cp1 = dict(down = dict(loc_W=-1, loc_H=-1, pad_width='120um'))\n",
    "\n",
    "q0=[TransmonPocket6(design, 'Q0', options=dict(pos_x='-2000um',\n",
    "                                            pos_y='-2000um',\n",
    "                                            chip='Q_chip',\n",
    "                                            connection_pads=cp0))]\n",
    "q1=[TransmonPocket6(design, 'Q1', options=dict(pos_x='2000um',\n",
    "                                            pos_y='-2000um',\n",
    "                                            chip='Q_chip',\n",
    "                                            connection_pads=cp1))]\n",
    "qubits=q0+q1\n",
    "\n",
    "q0x=float(qubits[0].options.pos_x.strip('um'))\n",
    "q0y=float(qubits[0].options.pos_y.strip('um'))\n",
    "q1x=float(qubits[1].options.pos_x.strip('um'))\n",
    "q1y=float(qubits[1].options.pos_y.strip('um'))\n",
    "\n",
    "c0 = LeftCoupler(design, \"c0\", options=dict(pos_x=f\"{q0x-150}um\",\n",
    "                                              pos_y=f\"{q0y+140}um\",\n",
    "                                              pad_width=\"150um\",\n",
    "                                              pad_height=\"30um\",\n",
    "                                              cpw_stub_height=\"200um\",\n",
    "                                              chip=\"C_chip\"))\n",
    "c1 = RightCoupler(design, \"c1\", options=dict(pos_x=f\"{q1x+150}um\",\n",
    "                                              pos_y=f\"{q1y+140}um\",\n",
    "                                              pad_width=\"150um\",\n",
    "                                              pad_height=\"30um\",\n",
    "                                              cpw_stub_height=\"200um\",\n",
    "                                              chip=\"C_chip\"))  \n",
    "\n",
    "design.rebuild()\n",
    "gui.rebuild()\n",
    "gui.autoscale()"
   ]
  },
  {
   "cell_type": "markdown",
   "metadata": {},
   "source": [
    "# Launchpad"
   ]
  },
  {
   "cell_type": "code",
   "execution_count": 27,
   "metadata": {},
   "outputs": [],
   "source": [
    "lpL=LaunchpadWirebondCoupled(design, 'lpL',\n",
    "                                         options = dict(chip=\"C_chip\",\n",
    "                                         pos_x = '-3000um',\n",
    "                                         pos_y = '2000um',\n",
    "                                         lead_length = '30um'))\n",
    "lpR=LaunchpadWirebondCoupled(design, 'lpR',\n",
    "                                         options = dict(chip=\"C_chip\",\n",
    "                                         pos_x = '3000um',\n",
    "                                         pos_y = '2000um',\n",
    "                                         orientation='180',\n",
    "                                         lead_length = '30um'))"
   ]
  },
  {
   "cell_type": "markdown",
   "metadata": {},
   "source": [
    "# Feedline"
   ]
  },
  {
   "cell_type": "code",
   "execution_count": 28,
   "metadata": {},
   "outputs": [],
   "source": [
    "clt0 = CoupledLineTee(design, \"clt0\", \n",
    "                        options=dict(pos_x='-2000um',\n",
    "                                    pos_y='2000um', \n",
    "                                    coupling_length='300um',\n",
    "                                    chip=\"C_chip\",\n",
    "                                    down_length='300um',\n",
    "                                    mirror=True,\n",
    "                                    open_termination=True))\n",
    "clt1 = CoupledLineTee(design, \"clt1\", \n",
    "                        options=dict(pos_x=\"2000um\",\n",
    "                                    pos_y='2000um',\n",
    "                                    coupling_length='300um', \n",
    "                                    chip=\"C_chip\",\n",
    "                                    down_length='300um',\n",
    "                                    mirror=False,\n",
    "                                    open_termination=True))\n"
   ]
  },
  {
   "cell_type": "code",
   "execution_count": 29,
   "metadata": {},
   "outputs": [],
   "source": [
    "fl0=RouteStraight(design, 'fl0',options=Dict(chip=\"C_chip\", pin_inputs=Dict(start_pin=Dict(\n",
    "                                                            component='lpL',\n",
    "                                                            pin='tie'),\n",
    "                                                            end_pin=Dict(\n",
    "                                                            component='clt0',\n",
    "                                                            pin='prime_start'))))\n",
    "fl1=RouteStraight(design, 'fl1',options=Dict(chip=\"C_chip\",pin_inputs=Dict(start_pin=Dict(\n",
    "                                                            component='clt0',\n",
    "                                                            pin='prime_end'),\n",
    "                                                            end_pin=Dict(\n",
    "                                                            component='clt1',\n",
    "                                                            pin='prime_start'))))\n",
    "fl2=RouteStraight(design, 'fl2',options=Dict(chip=\"C_chip\",pin_inputs=Dict(start_pin=Dict(\n",
    "                                                            component='clt1',\n",
    "                                                            pin='prime_end'),\n",
    "                                                            end_pin=Dict(\n",
    "                                                            component='lpR',\n",
    "                                                            pin='tie'))))"
   ]
  },
  {
   "cell_type": "markdown",
   "metadata": {},
   "source": [
    "# Readout Resonator"
   ]
  },
  {
   "cell_type": "code",
   "execution_count": 11,
   "metadata": {},
   "outputs": [],
   "source": [
    "from collections import OrderedDict\n",
    "jogs=OrderedDict()\n",
    "def connect(component_name: str, component1: str, pin1: str, component2: str, pin2: str,\n",
    "            length: str, start_jogged_extension: OrderedDict, end_jogged_extension: OrderedDict,\n",
    "            spacing: str, asymmetry='0 um',  start_straight='0 um', end_straight='0 um', flip=False):\n",
    "    \"\"\"Connect two pins with a CPW.\"\"\"\n",
    "    myoptions = Dict(\n",
    "        chip=\"C_chip\",\n",
    "        pin_inputs=Dict(\n",
    "            start_pin=Dict(\n",
    "                component=component1,\n",
    "                pin=pin1),\n",
    "            end_pin=Dict(\n",
    "                component=component2,\n",
    "                pin=pin2)),\n",
    "        lead=Dict(\n",
    "            start_straight=start_straight,\n",
    "            end_straight=end_straight,\n",
    "            start_jogged_extension=start_jogged_extension,\n",
    "            end_jogged_extension=end_jogged_extension),\n",
    "        total_length=length,\n",
    "        fillet = '99.9um',\n",
    "        meander=dict(asymmetry=asymmetry,\n",
    "                     spacing=spacing))\n",
    "    myoptions.meander.lead_direction_inverted = 'true' if flip else 'false'\n",
    "    return RouteMeander(design, component_name, myoptions)"
   ]
  },
  {
   "cell_type": "code",
   "execution_count": 30,
   "metadata": {},
   "outputs": [],
   "source": [
    "rr0=connect('rr0', 'clt0', 'second_end', 'c0', 'in',\n",
    "            resonator_length_2[1],jogs,jogs, \n",
    "            '400um','0um', '100um', '100um')\n",
    "rr1=connect('rr1', 'clt1', 'second_end', 'c1', 'in',\n",
    "            resonator_length_2[0],jogs,jogs, \n",
    "            '400um','0um', '100um', '100um')\n",
    "bus=connect('bus', 'Q0', 'down', 'Q1', 'down',\n",
    "            resonator_length_2[2],jogs,jogs, \n",
    "            '300um','-800um', '100um', '100um')            "
   ]
  },
  {
   "cell_type": "markdown",
   "metadata": {},
   "source": [
    "# LOM Analysis"
   ]
  },
  {
   "cell_type": "code",
   "execution_count": 47,
   "metadata": {},
   "outputs": [],
   "source": [
    "from qiskit_metal.analyses.quantization import LOManalysis\n",
    "c1 = LOManalysis(design, \"q3d\")"
   ]
  },
  {
   "cell_type": "code",
   "execution_count": 48,
   "metadata": {},
   "outputs": [
    {
     "data": {
      "text/plain": [
       "{'name': 'Setup',\n",
       " 'reuse_selected_design': True,\n",
       " 'reuse_setup': True,\n",
       " 'freq_ghz': '5.18',\n",
       " 'save_fields': False,\n",
       " 'enabled': True,\n",
       " 'max_passes': 10,\n",
       " 'min_passes': 2,\n",
       " 'min_converged_passes': 2,\n",
       " 'percent_error': 0.5,\n",
       " 'percent_refinement': 30,\n",
       " 'auto_increase_solution_order': 'False',\n",
       " 'solution_order': 'Medium',\n",
       " 'solver_type': 'Iterative'}"
      ]
     },
     "execution_count": 48,
     "metadata": {},
     "output_type": "execute_result"
    }
   ],
   "source": [
    "c1.sim.setup.max_passes = 10\n",
    "c1.sim.setup_update(freq_ghz='5.18',solution_order = 'Medium', auto_increase_solution_order = 'False')\n",
    "c1.sim.setup"
   ]
  },
  {
   "cell_type": "code",
   "execution_count": 2,
   "metadata": {},
   "outputs": [
    {
     "ename": "NameError",
     "evalue": "name 'c1' is not defined",
     "output_type": "error",
     "traceback": [
      "\u001b[1;31m---------------------------------------------------------------------------\u001b[0m",
      "\u001b[1;31mNameError\u001b[0m                                 Traceback (most recent call last)",
      "\u001b[1;32mc:\\Users\\kimje\\Desktop\\Project\\Qintern\\2q_Flipchip_V1_Flip20um.ipynb 셀 24\u001b[0m in \u001b[0;36m<module>\u001b[1;34m\u001b[0m\n\u001b[1;32m----> <a href='vscode-notebook-cell:/c%3A/Users/kimje/Desktop/Project/Qintern/2q_Flipchip_V1_Flip20um.ipynb#X33sZmlsZQ%3D%3D?line=0'>1</a>\u001b[0m c1\u001b[39m.\u001b[39msim\u001b[39m.\u001b[39mclose()\n",
      "\u001b[1;31mNameError\u001b[0m: name 'c1' is not defined"
     ]
    }
   ],
   "source": [
    "c1.sim.close()"
   ]
  },
  {
   "cell_type": "code",
   "execution_count": 50,
   "metadata": {},
   "outputs": [
    {
     "name": "stderr",
     "output_type": "stream",
     "text": [
      "INFO 05:08PM [get_matrix]: Exporting matrix data to (C:\\Users\\kimje\\AppData\\Local\\Temp\\tmppbr4x09m.txt, C, , Setup:LastAdaptive, \"Original\", \"ohm\", \"nH\", \"fF\", \"mSie\", 5180000000, Maxwell, 1, False\n",
      "INFO 05:08PM [get_matrix]: Exporting matrix data to (C:\\Users\\kimje\\AppData\\Local\\Temp\\tmpt1eg7b8f.txt, C, , Setup:AdaptivePass, \"Original\", \"ohm\", \"nH\", \"fF\", \"mSie\", 5180000000, Maxwell, 1, False\n",
      "INFO 05:08PM [get_matrix]: Exporting matrix data to (C:\\Users\\kimje\\AppData\\Local\\Temp\\tmp4mwe9vlm.txt, C, , Setup:AdaptivePass, \"Original\", \"ohm\", \"nH\", \"fF\", \"mSie\", 5180000000, Maxwell, 2, False\n",
      "INFO 05:08PM [get_matrix]: Exporting matrix data to (C:\\Users\\kimje\\AppData\\Local\\Temp\\tmp7lmol42x.txt, C, , Setup:AdaptivePass, \"Original\", \"ohm\", \"nH\", \"fF\", \"mSie\", 5180000000, Maxwell, 3, False\n",
      "INFO 05:08PM [get_matrix]: Exporting matrix data to (C:\\Users\\kimje\\AppData\\Local\\Temp\\tmpb6uqml6u.txt, C, , Setup:AdaptivePass, \"Original\", \"ohm\", \"nH\", \"fF\", \"mSie\", 5180000000, Maxwell, 4, False\n",
      "INFO 05:08PM [get_matrix]: Exporting matrix data to (C:\\Users\\kimje\\AppData\\Local\\Temp\\tmpkueg77xl.txt, C, , Setup:AdaptivePass, \"Original\", \"ohm\", \"nH\", \"fF\", \"mSie\", 5180000000, Maxwell, 5, False\n",
      "INFO 05:08PM [get_matrix]: Exporting matrix data to (C:\\Users\\kimje\\AppData\\Local\\Temp\\tmpwf2umnkc.txt, C, , Setup:AdaptivePass, \"Original\", \"ohm\", \"nH\", \"fF\", \"mSie\", 5180000000, Maxwell, 6, False\n",
      "INFO 05:08PM [get_matrix]: Exporting matrix data to (C:\\Users\\kimje\\AppData\\Local\\Temp\\tmpei4m4ac5.txt, C, , Setup:AdaptivePass, \"Original\", \"ohm\", \"nH\", \"fF\", \"mSie\", 5180000000, Maxwell, 7, False\n",
      "INFO 05:08PM [get_matrix]: Exporting matrix data to (C:\\Users\\kimje\\AppData\\Local\\Temp\\tmpwh7d9xv2.txt, C, , Setup:AdaptivePass, \"Original\", \"ohm\", \"nH\", \"fF\", \"mSie\", 5180000000, Maxwell, 8, False\n",
      "INFO 05:08PM [get_matrix]: Exporting matrix data to (C:\\Users\\kimje\\AppData\\Local\\Temp\\tmprumh9bya.txt, C, , Setup:AdaptivePass, \"Original\", \"ohm\", \"nH\", \"fF\", \"mSie\", 5180000000, Maxwell, 9, False\n"
     ]
    },
    {
     "data": {
      "text/html": [
       "<div>\n",
       "<style scoped>\n",
       "    .dataframe tbody tr th:only-of-type {\n",
       "        vertical-align: middle;\n",
       "    }\n",
       "\n",
       "    .dataframe tbody tr th {\n",
       "        vertical-align: top;\n",
       "    }\n",
       "\n",
       "    .dataframe thead th {\n",
       "        text-align: right;\n",
       "    }\n",
       "</style>\n",
       "<table border=\"1\" class=\"dataframe\">\n",
       "  <thead>\n",
       "    <tr style=\"text-align: right;\">\n",
       "      <th></th>\n",
       "      <th>down_connector_pad_Q0</th>\n",
       "      <th>ground</th>\n",
       "      <th>pad_bot_Q0</th>\n",
       "      <th>pad_top_Q0</th>\n",
       "      <th>quad_coupler_c0</th>\n",
       "    </tr>\n",
       "  </thead>\n",
       "  <tbody>\n",
       "    <tr>\n",
       "      <th>down_connector_pad_Q0</th>\n",
       "      <td>48.08500</td>\n",
       "      <td>-34.801</td>\n",
       "      <td>-11.62200</td>\n",
       "      <td>-1.2957</td>\n",
       "      <td>-0.00505</td>\n",
       "    </tr>\n",
       "    <tr>\n",
       "      <th>ground</th>\n",
       "      <td>-34.80100</td>\n",
       "      <td>310.000</td>\n",
       "      <td>-68.61300</td>\n",
       "      <td>-73.3590</td>\n",
       "      <td>-67.10800</td>\n",
       "    </tr>\n",
       "    <tr>\n",
       "      <th>pad_bot_Q0</th>\n",
       "      <td>-11.62200</td>\n",
       "      <td>-68.613</td>\n",
       "      <td>112.55000</td>\n",
       "      <td>-30.9850</td>\n",
       "      <td>-0.14186</td>\n",
       "    </tr>\n",
       "    <tr>\n",
       "      <th>pad_top_Q0</th>\n",
       "      <td>-1.29570</td>\n",
       "      <td>-73.359</td>\n",
       "      <td>-30.98500</td>\n",
       "      <td>107.8700</td>\n",
       "      <td>-1.17190</td>\n",
       "    </tr>\n",
       "    <tr>\n",
       "      <th>quad_coupler_c0</th>\n",
       "      <td>-0.00505</td>\n",
       "      <td>-67.108</td>\n",
       "      <td>-0.14186</td>\n",
       "      <td>-1.1719</td>\n",
       "      <td>68.57500</td>\n",
       "    </tr>\n",
       "  </tbody>\n",
       "</table>\n",
       "</div>"
      ],
      "text/plain": [
       "                       down_connector_pad_Q0   ground  pad_bot_Q0  pad_top_Q0  \\\n",
       "down_connector_pad_Q0               48.08500  -34.801   -11.62200     -1.2957   \n",
       "ground                             -34.80100  310.000   -68.61300    -73.3590   \n",
       "pad_bot_Q0                         -11.62200  -68.613   112.55000    -30.9850   \n",
       "pad_top_Q0                          -1.29570  -73.359   -30.98500    107.8700   \n",
       "quad_coupler_c0                     -0.00505  -67.108    -0.14186     -1.1719   \n",
       "\n",
       "                       quad_coupler_c0  \n",
       "down_connector_pad_Q0         -0.00505  \n",
       "ground                       -67.10800  \n",
       "pad_bot_Q0                    -0.14186  \n",
       "pad_top_Q0                    -1.17190  \n",
       "quad_coupler_c0               68.57500  "
      ]
     },
     "execution_count": 50,
     "metadata": {},
     "output_type": "execute_result"
    }
   ],
   "source": [
    "#c1.sim.run(components=['Q0','c0'], open_terminations=[('Q0', 'down'), ('c0', 'in')])\n",
    "c1.sim._get_results_from_renderer()\n",
    "c1.sim.capacitance_matrix"
   ]
  },
  {
   "cell_type": "code",
   "execution_count": 51,
   "metadata": {},
   "outputs": [
    {
     "name": "stdout",
     "output_type": "stream",
     "text": [
      "[2, 3] [4 0]\n",
      "Predicted Values\n",
      "\n",
      "Transmon Properties\n",
      "f_Q 5.371451 [GHz]\n",
      "EC 269.020755 [MHz]\n",
      "EJ 14.854145 [GHz]\n",
      "alpha -306.408154 [MHz]\n",
      "dispersion 4.370808 [KHz]\n",
      "Lq 10.995564 [nH]\n",
      "Cq 72.002727 [fF]\n",
      "T1 2463.558253 [us]\n",
      "\n",
      "**Coupling Properties**\n",
      "\n",
      "tCqbus1 -0.534155 [fF]\n",
      "gbus1_in_MHz -7.314068 [MHz]\n",
      "χ_bus1 -0.014919 [MHz]\n",
      "1/T1bus1 15.604141 [Hz]\n",
      "T1bus1 10199.532661 [us]\n",
      "\n",
      "tCqbus2 4.975001 [fF]\n",
      "gbus2_in_MHz 80.652055 [MHz]\n",
      "χ_bus2 -0.543304 [MHz]\n",
      "1/T1bus2 48.999545 [Hz]\n",
      "T1bus2 3248.090226 [us]\n",
      "Bus-Bus Couplings\n",
      "gbus1_2 0.380736 [MHz]\n"
     ]
    },
    {
     "data": {
      "text/html": [
       "<div>\n",
       "<style scoped>\n",
       "    .dataframe tbody tr th:only-of-type {\n",
       "        vertical-align: middle;\n",
       "    }\n",
       "\n",
       "    .dataframe tbody tr th {\n",
       "        vertical-align: top;\n",
       "    }\n",
       "\n",
       "    .dataframe thead th {\n",
       "        text-align: right;\n",
       "    }\n",
       "</style>\n",
       "<table border=\"1\" class=\"dataframe\">\n",
       "  <thead>\n",
       "    <tr style=\"text-align: right;\">\n",
       "      <th></th>\n",
       "      <th>fQ</th>\n",
       "      <th>EC</th>\n",
       "      <th>EJ</th>\n",
       "      <th>alpha</th>\n",
       "      <th>dispersion</th>\n",
       "      <th>gbus</th>\n",
       "      <th>chi_in_MHz</th>\n",
       "      <th>χr MHz</th>\n",
       "      <th>gr MHz</th>\n",
       "    </tr>\n",
       "  </thead>\n",
       "  <tbody>\n",
       "    <tr>\n",
       "      <th>1</th>\n",
       "      <td>5.861741</td>\n",
       "      <td>323.917781</td>\n",
       "      <td>14.854145</td>\n",
       "      <td>-374.97068</td>\n",
       "      <td>26.438696</td>\n",
       "      <td>[-46.10846407629163, 60.565399522744286]</td>\n",
       "      <td>[-1.516731429903507, -0.5310945240726785]</td>\n",
       "      <td>1.516731</td>\n",
       "      <td>46.108464</td>\n",
       "    </tr>\n",
       "    <tr>\n",
       "      <th>2</th>\n",
       "      <td>5.608167</td>\n",
       "      <td>294.803893</td>\n",
       "      <td>14.854145</td>\n",
       "      <td>-338.3674</td>\n",
       "      <td>10.847063</td>\n",
       "      <td>[-4.09078012666261, 68.48271836211634]</td>\n",
       "      <td>[-0.00710027681145876, -0.5074580548337988]</td>\n",
       "      <td>0.007100</td>\n",
       "      <td>4.090780</td>\n",
       "    </tr>\n",
       "    <tr>\n",
       "      <th>3</th>\n",
       "      <td>5.541824</td>\n",
       "      <td>287.44304</td>\n",
       "      <td>14.854145</td>\n",
       "      <td>-329.19979</td>\n",
       "      <td>8.474872</td>\n",
       "      <td>[-6.031339914524494, 75.49233860612307]</td>\n",
       "      <td>[-0.013649757697824198, -0.5728489261410972]</td>\n",
       "      <td>0.013650</td>\n",
       "      <td>6.031340</td>\n",
       "    </tr>\n",
       "    <tr>\n",
       "      <th>4</th>\n",
       "      <td>5.462899</td>\n",
       "      <td>278.823342</td>\n",
       "      <td>14.854145</td>\n",
       "      <td>-318.50861</td>\n",
       "      <td>6.268782</td>\n",
       "      <td>[-6.5873446731526295, 76.64228283574771]</td>\n",
       "      <td>[-0.014146995725981661, -0.5415205246609784]</td>\n",
       "      <td>0.014147</td>\n",
       "      <td>6.587345</td>\n",
       "    </tr>\n",
       "    <tr>\n",
       "      <th>5</th>\n",
       "      <td>5.41821</td>\n",
       "      <td>274.008295</td>\n",
       "      <td>14.854145</td>\n",
       "      <td>-312.557157</td>\n",
       "      <td>5.264007</td>\n",
       "      <td>[-6.745942842780424, 76.42761803112862]</td>\n",
       "      <td>[-0.013734702766371745, -0.5130354197963423]</td>\n",
       "      <td>0.013735</td>\n",
       "      <td>6.745943</td>\n",
       "    </tr>\n",
       "    <tr>\n",
       "      <th>6</th>\n",
       "      <td>5.397667</td>\n",
       "      <td>271.810765</td>\n",
       "      <td>14.854145</td>\n",
       "      <td>-309.845919</td>\n",
       "      <td>4.853037</td>\n",
       "      <td>[-6.9248736475536585, 79.01294853329914]</td>\n",
       "      <td>[-0.01397632989927284, -0.5363270000559701]</td>\n",
       "      <td>0.013976</td>\n",
       "      <td>6.924874</td>\n",
       "    </tr>\n",
       "    <tr>\n",
       "      <th>7</th>\n",
       "      <td>5.381548</td>\n",
       "      <td>270.093409</td>\n",
       "      <td>14.854145</td>\n",
       "      <td>-307.729256</td>\n",
       "      <td>4.551146</td>\n",
       "      <td>[-7.2972334906860326, 80.11733431620839]</td>\n",
       "      <td>[-0.015103866485774884, -0.5419583167060877]</td>\n",
       "      <td>0.015104</td>\n",
       "      <td>7.297233</td>\n",
       "    </tr>\n",
       "    <tr>\n",
       "      <th>8</th>\n",
       "      <td>5.371451</td>\n",
       "      <td>269.020755</td>\n",
       "      <td>14.854145</td>\n",
       "      <td>-306.408154</td>\n",
       "      <td>4.370808</td>\n",
       "      <td>[-7.314067807935301, 80.65205488603584]</td>\n",
       "      <td>[-0.014919137203851325, -0.5433044616493049]</td>\n",
       "      <td>0.014919</td>\n",
       "      <td>7.314068</td>\n",
       "    </tr>\n",
       "  </tbody>\n",
       "</table>\n",
       "</div>"
      ],
      "text/plain": [
       "         fQ          EC         EJ       alpha dispersion  \\\n",
       "1  5.861741  323.917781  14.854145  -374.97068  26.438696   \n",
       "2  5.608167  294.803893  14.854145   -338.3674  10.847063   \n",
       "3  5.541824   287.44304  14.854145  -329.19979   8.474872   \n",
       "4  5.462899  278.823342  14.854145  -318.50861   6.268782   \n",
       "5   5.41821  274.008295  14.854145 -312.557157   5.264007   \n",
       "6  5.397667  271.810765  14.854145 -309.845919   4.853037   \n",
       "7  5.381548  270.093409  14.854145 -307.729256   4.551146   \n",
       "8  5.371451  269.020755  14.854145 -306.408154   4.370808   \n",
       "\n",
       "                                       gbus  \\\n",
       "1  [-46.10846407629163, 60.565399522744286]   \n",
       "2    [-4.09078012666261, 68.48271836211634]   \n",
       "3   [-6.031339914524494, 75.49233860612307]   \n",
       "4  [-6.5873446731526295, 76.64228283574771]   \n",
       "5   [-6.745942842780424, 76.42761803112862]   \n",
       "6  [-6.9248736475536585, 79.01294853329914]   \n",
       "7  [-7.2972334906860326, 80.11733431620839]   \n",
       "8   [-7.314067807935301, 80.65205488603584]   \n",
       "\n",
       "                                     chi_in_MHz    χr MHz     gr MHz  \n",
       "1     [-1.516731429903507, -0.5310945240726785]  1.516731  46.108464  \n",
       "2   [-0.00710027681145876, -0.5074580548337988]  0.007100   4.090780  \n",
       "3  [-0.013649757697824198, -0.5728489261410972]  0.013650   6.031340  \n",
       "4  [-0.014146995725981661, -0.5415205246609784]  0.014147   6.587345  \n",
       "5  [-0.013734702766371745, -0.5130354197963423]  0.013735   6.745943  \n",
       "6   [-0.01397632989927284, -0.5363270000559701]  0.013976   6.924874  \n",
       "7  [-0.015103866485774884, -0.5419583167060877]  0.015104   7.297233  \n",
       "8  [-0.014919137203851325, -0.5433044616493049]  0.014919   7.314068  "
      ]
     },
     "execution_count": 51,
     "metadata": {},
     "output_type": "execute_result"
    }
   ],
   "source": [
    "c1.setup.junctions = Dict({'Lj': 11, 'Cj': 2})\n",
    "c1.setup.freq_readout = 6.72\n",
    "c1.setup.freq_bus = [7.99]\n",
    "c1.run_lom()\n",
    "c1.lumped_oscillator_all"
   ]
  },
  {
   "cell_type": "code",
   "execution_count": 53,
   "metadata": {},
   "outputs": [
    {
     "name": "stderr",
     "output_type": "stream",
     "text": [
      "INFO 05:13PM [get_matrix]: Exporting matrix data to (C:\\Users\\kimje\\AppData\\Local\\Temp\\tmpgcx22vrf.txt, C, , Setup:LastAdaptive, \"Original\", \"ohm\", \"nH\", \"fF\", \"mSie\", 5330000000, Maxwell, 1, False\n",
      "INFO 05:13PM [get_matrix]: Exporting matrix data to (C:\\Users\\kimje\\AppData\\Local\\Temp\\tmpagld5w2h.txt, C, , Setup:AdaptivePass, \"Original\", \"ohm\", \"nH\", \"fF\", \"mSie\", 5330000000, Maxwell, 1, False\n",
      "INFO 05:13PM [get_matrix]: Exporting matrix data to (C:\\Users\\kimje\\AppData\\Local\\Temp\\tmpy2gv3szf.txt, C, , Setup:AdaptivePass, \"Original\", \"ohm\", \"nH\", \"fF\", \"mSie\", 5330000000, Maxwell, 2, False\n",
      "INFO 05:13PM [get_matrix]: Exporting matrix data to (C:\\Users\\kimje\\AppData\\Local\\Temp\\tmps6ci3vog.txt, C, , Setup:AdaptivePass, \"Original\", \"ohm\", \"nH\", \"fF\", \"mSie\", 5330000000, Maxwell, 3, False\n",
      "INFO 05:13PM [get_matrix]: Exporting matrix data to (C:\\Users\\kimje\\AppData\\Local\\Temp\\tmp7jivd2i7.txt, C, , Setup:AdaptivePass, \"Original\", \"ohm\", \"nH\", \"fF\", \"mSie\", 5330000000, Maxwell, 4, False\n",
      "INFO 05:13PM [get_matrix]: Exporting matrix data to (C:\\Users\\kimje\\AppData\\Local\\Temp\\tmp2m_m9psv.txt, C, , Setup:AdaptivePass, \"Original\", \"ohm\", \"nH\", \"fF\", \"mSie\", 5330000000, Maxwell, 5, False\n",
      "INFO 05:13PM [get_matrix]: Exporting matrix data to (C:\\Users\\kimje\\AppData\\Local\\Temp\\tmpymuhjk1z.txt, C, , Setup:AdaptivePass, \"Original\", \"ohm\", \"nH\", \"fF\", \"mSie\", 5330000000, Maxwell, 6, False\n",
      "INFO 05:13PM [get_matrix]: Exporting matrix data to (C:\\Users\\kimje\\AppData\\Local\\Temp\\tmp7jbzdv0u.txt, C, , Setup:AdaptivePass, \"Original\", \"ohm\", \"nH\", \"fF\", \"mSie\", 5330000000, Maxwell, 7, False\n",
      "INFO 05:13PM [get_matrix]: Exporting matrix data to (C:\\Users\\kimje\\AppData\\Local\\Temp\\tmpd36wz401.txt, C, , Setup:AdaptivePass, \"Original\", \"ohm\", \"nH\", \"fF\", \"mSie\", 5330000000, Maxwell, 8, False\n"
     ]
    },
    {
     "data": {
      "text/html": [
       "<div>\n",
       "<style scoped>\n",
       "    .dataframe tbody tr th:only-of-type {\n",
       "        vertical-align: middle;\n",
       "    }\n",
       "\n",
       "    .dataframe tbody tr th {\n",
       "        vertical-align: top;\n",
       "    }\n",
       "\n",
       "    .dataframe thead th {\n",
       "        text-align: right;\n",
       "    }\n",
       "</style>\n",
       "<table border=\"1\" class=\"dataframe\">\n",
       "  <thead>\n",
       "    <tr style=\"text-align: right;\">\n",
       "      <th></th>\n",
       "      <th>down_connector_pad_Q1</th>\n",
       "      <th>ground</th>\n",
       "      <th>pad_bot_Q1</th>\n",
       "      <th>pad_top_Q1</th>\n",
       "      <th>quad_coupler_c1</th>\n",
       "    </tr>\n",
       "  </thead>\n",
       "  <tbody>\n",
       "    <tr>\n",
       "      <th>down_connector_pad_Q1</th>\n",
       "      <td>47.325000</td>\n",
       "      <td>-34.238</td>\n",
       "      <td>-11.44600</td>\n",
       "      <td>-1.2874</td>\n",
       "      <td>-0.005457</td>\n",
       "    </tr>\n",
       "    <tr>\n",
       "      <th>ground</th>\n",
       "      <td>-34.238000</td>\n",
       "      <td>307.580</td>\n",
       "      <td>-68.70600</td>\n",
       "      <td>-73.4020</td>\n",
       "      <td>-64.855000</td>\n",
       "    </tr>\n",
       "    <tr>\n",
       "      <th>pad_bot_Q1</th>\n",
       "      <td>-11.446000</td>\n",
       "      <td>-68.706</td>\n",
       "      <td>112.14000</td>\n",
       "      <td>-30.7150</td>\n",
       "      <td>-0.144640</td>\n",
       "    </tr>\n",
       "    <tr>\n",
       "      <th>pad_top_Q1</th>\n",
       "      <td>-1.287400</td>\n",
       "      <td>-73.402</td>\n",
       "      <td>-30.71500</td>\n",
       "      <td>107.5900</td>\n",
       "      <td>-1.155700</td>\n",
       "    </tr>\n",
       "    <tr>\n",
       "      <th>quad_coupler_c1</th>\n",
       "      <td>-0.005457</td>\n",
       "      <td>-64.855</td>\n",
       "      <td>-0.14464</td>\n",
       "      <td>-1.1557</td>\n",
       "      <td>66.304000</td>\n",
       "    </tr>\n",
       "  </tbody>\n",
       "</table>\n",
       "</div>"
      ],
      "text/plain": [
       "                       down_connector_pad_Q1   ground  pad_bot_Q1  pad_top_Q1  \\\n",
       "down_connector_pad_Q1              47.325000  -34.238   -11.44600     -1.2874   \n",
       "ground                            -34.238000  307.580   -68.70600    -73.4020   \n",
       "pad_bot_Q1                        -11.446000  -68.706   112.14000    -30.7150   \n",
       "pad_top_Q1                         -1.287400  -73.402   -30.71500    107.5900   \n",
       "quad_coupler_c1                    -0.005457  -64.855    -0.14464     -1.1557   \n",
       "\n",
       "                       quad_coupler_c1  \n",
       "down_connector_pad_Q1        -0.005457  \n",
       "ground                      -64.855000  \n",
       "pad_bot_Q1                   -0.144640  \n",
       "pad_top_Q1                   -1.155700  \n",
       "quad_coupler_c1              66.304000  "
      ]
     },
     "execution_count": 53,
     "metadata": {},
     "output_type": "execute_result"
    }
   ],
   "source": [
    "#c1.sim.run(components=['Q1','c1'], open_terminations=[('Q1', 'down'), ('c1', 'in')])\n",
    "c1.sim._get_results_from_renderer()\n",
    "c1.sim.capacitance_matrix"
   ]
  },
  {
   "cell_type": "code",
   "execution_count": 54,
   "metadata": {},
   "outputs": [
    {
     "name": "stdout",
     "output_type": "stream",
     "text": [
      "[2, 3] [4 0]\n",
      "Predicted Values\n",
      "\n",
      "Transmon Properties\n",
      "f_Q 5.381480 [GHz]\n",
      "EC 270.086131 [MHz]\n",
      "EJ 14.854145 [GHz]\n",
      "alpha -307.720289 [MHz]\n",
      "dispersion 4.549902 [KHz]\n",
      "Lq 10.995564 [nH]\n",
      "Cq 71.718707 [fF]\n",
      "T1 2599.600147 [us]\n",
      "\n",
      "**Coupling Properties**\n",
      "\n",
      "tCqbus1 -0.524066 [fF]\n",
      "gbus1_in_MHz -7.358669 [MHz]\n",
      "χ_bus1 -0.012692 [MHz]\n",
      "1/T1bus1 12.957821 [Hz]\n",
      "T1bus1 12282.539408 [us]\n",
      "\n",
      "tCqbus2 4.897788 [fF]\n",
      "gbus2_in_MHz 79.649845 [MHz]\n",
      "χ_bus2 -0.535613 [MHz]\n",
      "1/T1bus2 48.265034 [Hz]\n",
      "T1bus2 3297.520555 [us]\n",
      "Bus-Bus Couplings\n",
      "gbus1_2 0.381806 [MHz]\n"
     ]
    },
    {
     "data": {
      "text/html": [
       "<div>\n",
       "<style scoped>\n",
       "    .dataframe tbody tr th:only-of-type {\n",
       "        vertical-align: middle;\n",
       "    }\n",
       "\n",
       "    .dataframe tbody tr th {\n",
       "        vertical-align: top;\n",
       "    }\n",
       "\n",
       "    .dataframe thead th {\n",
       "        text-align: right;\n",
       "    }\n",
       "</style>\n",
       "<table border=\"1\" class=\"dataframe\">\n",
       "  <thead>\n",
       "    <tr style=\"text-align: right;\">\n",
       "      <th></th>\n",
       "      <th>fQ</th>\n",
       "      <th>EC</th>\n",
       "      <th>EJ</th>\n",
       "      <th>alpha</th>\n",
       "      <th>dispersion</th>\n",
       "      <th>gbus</th>\n",
       "      <th>chi_in_MHz</th>\n",
       "      <th>χr MHz</th>\n",
       "      <th>gr MHz</th>\n",
       "    </tr>\n",
       "  </thead>\n",
       "  <tbody>\n",
       "    <tr>\n",
       "      <th>1</th>\n",
       "      <td>5.826326</td>\n",
       "      <td>319.757554</td>\n",
       "      <td>14.854145</td>\n",
       "      <td>-369.706534</td>\n",
       "      <td>23.456225</td>\n",
       "      <td>[-46.79202117246007, 58.47954595562012]</td>\n",
       "      <td>[-1.107849286540532, -0.47493140282945534]</td>\n",
       "      <td>1.107849</td>\n",
       "      <td>46.792021</td>\n",
       "    </tr>\n",
       "    <tr>\n",
       "      <th>2</th>\n",
       "      <td>5.580515</td>\n",
       "      <td>291.723018</td>\n",
       "      <td>14.854145</td>\n",
       "      <td>-334.526066</td>\n",
       "      <td>9.793865</td>\n",
       "      <td>[-3.3949799167964048, 66.96439628570158]</td>\n",
       "      <td>[-0.003733503745169711, -0.47047511443142137]</td>\n",
       "      <td>0.003734</td>\n",
       "      <td>3.394980</td>\n",
       "    </tr>\n",
       "    <tr>\n",
       "      <th>3</th>\n",
       "      <td>5.524244</td>\n",
       "      <td>285.510167</td>\n",
       "      <td>14.854145</td>\n",
       "      <td>-326.798261</td>\n",
       "      <td>7.930371</td>\n",
       "      <td>[-5.849907670121121, 72.86715537688985]</td>\n",
       "      <td>[-0.01008667461391549, -0.5234619703281337]</td>\n",
       "      <td>0.010087</td>\n",
       "      <td>5.849908</td>\n",
       "    </tr>\n",
       "    <tr>\n",
       "      <th>4</th>\n",
       "      <td>5.47254</td>\n",
       "      <td>279.868279</td>\n",
       "      <td>14.854145</td>\n",
       "      <td>-319.802126</td>\n",
       "      <td>6.507053</td>\n",
       "      <td>[-5.874074576937013, 73.03408668901592]</td>\n",
       "      <td>[-0.009345047868112575, -0.496921669356587]</td>\n",
       "      <td>0.009345</td>\n",
       "      <td>5.874075</td>\n",
       "    </tr>\n",
       "    <tr>\n",
       "      <th>5</th>\n",
       "      <td>5.415987</td>\n",
       "      <td>273.769951</td>\n",
       "      <td>14.854145</td>\n",
       "      <td>-312.262946</td>\n",
       "      <td>5.218052</td>\n",
       "      <td>[-6.49551897016879, 75.96837312828715]</td>\n",
       "      <td>[-0.010439207021360974, -0.505673444954224]</td>\n",
       "      <td>0.010439</td>\n",
       "      <td>6.495519</td>\n",
       "    </tr>\n",
       "    <tr>\n",
       "      <th>6</th>\n",
       "      <td>5.393969</td>\n",
       "      <td>271.416161</td>\n",
       "      <td>14.854145</td>\n",
       "      <td>-309.359397</td>\n",
       "      <td>4.782207</td>\n",
       "      <td>[-7.02155941323818, 78.84242484019722]</td>\n",
       "      <td>[-0.01178334519309352, -0.5318947390416744]</td>\n",
       "      <td>0.011783</td>\n",
       "      <td>7.021559</td>\n",
       "    </tr>\n",
       "    <tr>\n",
       "      <th>7</th>\n",
       "      <td>5.38148</td>\n",
       "      <td>270.086131</td>\n",
       "      <td>14.854145</td>\n",
       "      <td>-307.720289</td>\n",
       "      <td>4.549902</td>\n",
       "      <td>[-7.358668901615214, 79.64984528316273]</td>\n",
       "      <td>[-0.012691974289008746, -0.5356127324308688]</td>\n",
       "      <td>0.012692</td>\n",
       "      <td>7.358669</td>\n",
       "    </tr>\n",
       "  </tbody>\n",
       "</table>\n",
       "</div>"
      ],
      "text/plain": [
       "         fQ          EC         EJ       alpha dispersion  \\\n",
       "1  5.826326  319.757554  14.854145 -369.706534  23.456225   \n",
       "2  5.580515  291.723018  14.854145 -334.526066   9.793865   \n",
       "3  5.524244  285.510167  14.854145 -326.798261   7.930371   \n",
       "4   5.47254  279.868279  14.854145 -319.802126   6.507053   \n",
       "5  5.415987  273.769951  14.854145 -312.262946   5.218052   \n",
       "6  5.393969  271.416161  14.854145 -309.359397   4.782207   \n",
       "7   5.38148  270.086131  14.854145 -307.720289   4.549902   \n",
       "\n",
       "                                       gbus  \\\n",
       "1   [-46.79202117246007, 58.47954595562012]   \n",
       "2  [-3.3949799167964048, 66.96439628570158]   \n",
       "3   [-5.849907670121121, 72.86715537688985]   \n",
       "4   [-5.874074576937013, 73.03408668901592]   \n",
       "5    [-6.49551897016879, 75.96837312828715]   \n",
       "6    [-7.02155941323818, 78.84242484019722]   \n",
       "7   [-7.358668901615214, 79.64984528316273]   \n",
       "\n",
       "                                      chi_in_MHz    χr MHz     gr MHz  \n",
       "1     [-1.107849286540532, -0.47493140282945534]  1.107849  46.792021  \n",
       "2  [-0.003733503745169711, -0.47047511443142137]  0.003734   3.394980  \n",
       "3    [-0.01008667461391549, -0.5234619703281337]  0.010087   5.849908  \n",
       "4    [-0.009345047868112575, -0.496921669356587]  0.009345   5.874075  \n",
       "5    [-0.010439207021360974, -0.505673444954224]  0.010439   6.495519  \n",
       "6    [-0.01178334519309352, -0.5318947390416744]  0.011783   7.021559  \n",
       "7   [-0.012691974289008746, -0.5356127324308688]  0.012692   7.358669  "
      ]
     },
     "execution_count": 54,
     "metadata": {},
     "output_type": "execute_result"
    }
   ],
   "source": [
    "c1.setup.junctions = Dict({'Lj': 11, 'Cj': 2})\n",
    "c1.setup.freq_readout = 6.87\n",
    "c1.setup.freq_bus = [7.99]\n",
    "c1.run_lom()\n",
    "c1.lumped_oscillator_all"
   ]
  },
  {
   "cell_type": "markdown",
   "metadata": {},
   "source": [
    "# EPR Analysis"
   ]
  },
  {
   "cell_type": "code",
   "execution_count": 31,
   "metadata": {},
   "outputs": [],
   "source": [
    "from qiskit_metal.analyses.quantization import EPRanalysis"
   ]
  },
  {
   "cell_type": "code",
   "execution_count": 32,
   "metadata": {},
   "outputs": [],
   "source": [
    "eig_rd = EPRanalysis(design, \"hfss\")\n",
    "hfss = eig_rd.sim.renderer"
   ]
  },
  {
   "cell_type": "code",
   "execution_count": 33,
   "metadata": {},
   "outputs": [
    {
     "name": "stderr",
     "output_type": "stream",
     "text": [
      "INFO 02:47PM [connect_project]: Connecting to Ansys Desktop API...\n",
      "INFO 02:47PM [load_ansys_project]: \tOpened Ansys App\n",
      "INFO 02:47PM [load_ansys_project]: \tOpened Ansys Desktop v2018.0.0\n",
      "INFO 02:47PM [load_ansys_project]: \tOpened Ansys Project\n",
      "\tFolder:    C:/Users/kimje/Documents/Ansoft/\n",
      "\tProject:   Project21\n",
      "INFO 02:47PM [connect_design]: \tOpened active design\n",
      "\tDesign:    Flip_chip [Solution type: Eigenmode]\n",
      "INFO 02:47PM [get_setup]: \tOpened setup `Setup`  (<class 'pyEPR.ansys.HfssEMSetup'>)\n",
      "INFO 02:47PM [connect]: \tConnected to project \"Project21\" and design \"Flip_chip\" 😀 \n",
      "\n"
     ]
    },
    {
     "data": {
      "text/plain": [
       "True"
      ]
     },
     "execution_count": 33,
     "metadata": {},
     "output_type": "execute_result"
    }
   ],
   "source": [
    "hfss.start()"
   ]
  },
  {
   "cell_type": "code",
   "execution_count": 35,
   "metadata": {},
   "outputs": [
    {
     "name": "stderr",
     "output_type": "stream",
     "text": [
      "INFO 02:49PM [connect_design]: \tOpened active design\n",
      "\tDesign:    Flipchip [Solution type: Eigenmode]\n"
     ]
    }
   ],
   "source": [
    "hfss.activate_ansys_design(\"Flipchip\", 'eigenmode')\n",
    "hfss.render_design(['Q0','Q1','bus','c0','c1','lpL','lpR','clt0','clt1','rr0','rr1','fl0','fl1','fl2'],\n",
    "                    [('clt0','prime_end'),('clt1','prime_start'),\n",
    "                    ('bus','start'),('bus','end')],\n",
    "                    box_plus_buffer=True)"
   ]
  },
  {
   "cell_type": "code",
   "execution_count": 1,
   "metadata": {},
   "outputs": [
    {
     "ename": "NameError",
     "evalue": "name 'hfss' is not defined",
     "output_type": "error",
     "traceback": [
      "\u001b[1;31m---------------------------------------------------------------------------\u001b[0m",
      "\u001b[1;31mNameError\u001b[0m                                 Traceback (most recent call last)",
      "\u001b[1;32mc:\\Users\\kimje\\Desktop\\Project\\Qintern\\2q_Flipchip_V1_Flip20um.ipynb 셀 34\u001b[0m in \u001b[0;36m<module>\u001b[1;34m\u001b[0m\n\u001b[1;32m----> <a href='vscode-notebook-cell:/c%3A/Users/kimje/Desktop/Project/Qintern/2q_Flipchip_V1_Flip20um.ipynb#X46sZmlsZQ%3D%3D?line=0'>1</a>\u001b[0m hfss\u001b[39m.\u001b[39mclose()\n",
      "\u001b[1;31mNameError\u001b[0m: name 'hfss' is not defined"
     ]
    }
   ],
   "source": [
    "hfss.close()"
   ]
  },
  {
   "cell_type": "code",
   "execution_count": null,
   "metadata": {},
   "outputs": [],
   "source": []
  }
 ],
 "metadata": {
  "kernelspec": {
   "display_name": "Python 3.9.10 ('metal')",
   "language": "python",
   "name": "python3"
  },
  "language_info": {
   "codemirror_mode": {
    "name": "ipython",
    "version": 3
   },
   "file_extension": ".py",
   "mimetype": "text/x-python",
   "name": "python",
   "nbconvert_exporter": "python",
   "pygments_lexer": "ipython3",
   "version": "3.9.10"
  },
  "orig_nbformat": 4,
  "vscode": {
   "interpreter": {
    "hash": "ac951534856e2c23f9f162419ca8ae29ffbc7967cf243c458d1cebaa12df0b5c"
   }
  }
 },
 "nbformat": 4,
 "nbformat_minor": 2
}
