{
 "cells": [
  {
   "cell_type": "code",
   "execution_count": 2,
   "metadata": {},
   "outputs": [],
   "source": [
    "import warnings\n",
    "warnings.filterwarnings(\"ignore\")\n",
    "%load_ext autoreload\n",
    "%autoreload 2\n",
    "from qiskit_metal import Dict, MetalGUI, designs\n",
    "from qiskit_metal.qlibrary.qubits.transmon_pocket import TransmonPocket\n",
    "from qiskit_metal.qlibrary.qubits.transmon_pocket_6 import TransmonPocket6\n",
    "from qiskit_metal.qlibrary.tlines.meandered import RouteMeander\n",
    "from qiskit_metal.qlibrary.tlines.straight_path import RouteStraight\n",
    "from qiskit_metal.qlibrary.terminations.launchpad_wb_coupled import LaunchpadWirebondCoupled\n",
    "from qiskit_metal.qlibrary.couplers.coupled_line_tee import CoupledLineTee\n",
    "from qiskit_metal.qlibrary.user_components.left_coupler import LeftCoupler\n",
    "from qiskit_metal.qlibrary.user_components.right_coupler import RightCoupler\n",
    "from qiskit_metal.qlibrary.user_components.straightdown_coupler import StraightDownCoupler\n",
    "from qiskit_metal.qlibrary.user_components.straightup_coupler import StraightUpCoupler"
   ]
  },
  {
   "cell_type": "code",
   "execution_count": 3,
   "metadata": {},
   "outputs": [],
   "source": [
    "design = designs.DesignFlipChip({}, overwrite_enabled=True)\n",
    "gui = MetalGUI(design)"
   ]
  },
  {
   "cell_type": "code",
   "execution_count": 3,
   "metadata": {},
   "outputs": [],
   "source": [
    "design.delete_all_components()"
   ]
  },
  {
   "cell_type": "code",
   "execution_count": 5,
   "metadata": {},
   "outputs": [
    {
     "data": {
      "text/plain": [
       "'5um'"
      ]
     },
     "execution_count": 5,
     "metadata": {},
     "output_type": "execute_result"
    }
   ],
   "source": [
    "design.get_chip_z('Q_chip')"
   ]
  },
  {
   "cell_type": "code",
   "execution_count": 4,
   "metadata": {},
   "outputs": [],
   "source": [
    "design.chips['C_chip'].size['size_x']='8mm'\n",
    "design.chips['C_chip'].size['size_y']='8mm'\n",
    "design.chips['Q_chip'].size['size_x']='8mm'\n",
    "design.chips['Q_chip'].size['size_y']='8mm'\n",
    "design.chips['Q_chip'].size['center_z']='5um'"
   ]
  },
  {
   "cell_type": "markdown",
   "metadata": {},
   "source": [
    "# Resonator length"
   ]
  },
  {
   "cell_type": "code",
   "execution_count": 6,
   "metadata": {},
   "outputs": [],
   "source": [
    "from qiskit_metal.analyses.em.cpw_calculations import guided_wavelength\n",
    "\n",
    "def find_resonator_length(frequency, line_width, line_gap, N): \n",
    "    #frequency in GHz\n",
    "    #line_width/line_gap in um\n",
    "    #N -> 2 for lambda/2, 4 for lambda/4\n",
    "    \n",
    "    [lambdaG, etfSqrt, q] = guided_wavelength(frequency*10**9, line_width*10**-6,\n",
    "                                              line_gap*10**-6, 750*10**-6, 200*10**-9)\n",
    "    return str(lambdaG/N*10**3)+\" mm\""
   ]
  },
  {
   "cell_type": "code",
   "execution_count": 7,
   "metadata": {},
   "outputs": [
    {
     "name": "stdout",
     "output_type": "stream",
     "text": [
      "[8.103254683870285, 7.874788339841421, 7.658346540209131]\n"
     ]
    }
   ],
   "source": [
    "resonator_length_2=[]\n",
    "for i in range(3):\n",
    "    a=find_resonator_length(7.2+i*0.2,10,6,2)\n",
    "    a=a.strip('mm')\n",
    "    a=float(a)-0.35\n",
    "    resonator_length_2.append(a)\n",
    "print(resonator_length_2)\n"
   ]
  },
  {
   "cell_type": "code",
   "execution_count": 12,
   "metadata": {},
   "outputs": [
    {
     "name": "stdout",
     "output_type": "stream",
     "text": [
      "[4.226627341935142, 4.1123941699207105, 4.004173270104565]\n"
     ]
    }
   ],
   "source": [
    "resonator_length_4=[]\n",
    "for i in range(3):\n",
    "    a=find_resonator_length(7.2+i*0.2,10,6,4)\n",
    "    a=a.strip('mm')\n",
    "    a=float(a)\n",
    "    resonator_length_4.append(a)\n",
    "print(resonator_length_4)\n"
   ]
  },
  {
   "cell_type": "markdown",
   "metadata": {},
   "source": [
    "# Flipchip"
   ]
  },
  {
   "cell_type": "code",
   "execution_count": 8,
   "metadata": {},
   "outputs": [],
   "source": [
    "cp0 = dict(down = dict(loc_W=1, loc_H=-1, pad_width='120um'))\n",
    "cp1 = dict(down = dict(loc_W=-1, loc_H=-1, pad_width='120um'))\n",
    "\n",
    "q0=[TransmonPocket6(design, 'Q0', options=dict(pos_x='-2000um',\n",
    "                                            pos_y='-2000um',\n",
    "                                            chip='Q_chip',\n",
    "                                            connection_pads=cp0))]\n",
    "q1=[TransmonPocket6(design, 'Q1', options=dict(pos_x='2000um',\n",
    "                                            pos_y='-2000um',\n",
    "                                            chip='Q_chip',\n",
    "                                            connection_pads=cp1))]\n",
    "qubits=q0+q1\n",
    "\n",
    "q0x=float(qubits[0].options.pos_x.strip('um'))\n",
    "q0y=float(qubits[0].options.pos_y.strip('um'))\n",
    "q1x=float(qubits[1].options.pos_x.strip('um'))\n",
    "q1y=float(qubits[1].options.pos_y.strip('um'))\n",
    "\n",
    "c0 = LeftCoupler(design, \"c0\", options=dict(pos_x=f\"{q0x-100}um\",\n",
    "                                              pos_y=f\"{q0y+100}um\",\n",
    "                                              pad_width=\"150um\",\n",
    "                                              pad_height=\"80um\",\n",
    "                                              cpw_stub_height=\"200um\",\n",
    "                                              chip=\"C_chip\"))\n",
    "c1 = RightCoupler(design, \"c1\", options=dict(pos_x=f\"{q1x+100}um\",\n",
    "                                              pos_y=f\"{q1y+100}um\",\n",
    "                                              pad_width=\"150um\",\n",
    "                                              pad_height=\"80um\",\n",
    "                                              cpw_stub_height=\"200um\",\n",
    "                                              chip=\"C_chip\"))  \n",
    "\n",
    "design.rebuild()\n",
    "gui.rebuild()\n",
    "gui.autoscale()"
   ]
  },
  {
   "cell_type": "code",
   "execution_count": 9,
   "metadata": {},
   "outputs": [],
   "source": [
    "#planar랑 똑같은 디자인\n",
    "cp0 = dict(down = dict(loc_W=1, loc_H=-1, pad_width='120um'))\n",
    "cp1 = dict(down = dict(loc_W=-1, loc_H=-1, pad_width='120um'))\n",
    "\n",
    "q0=[TransmonPocket6(design, 'Q0', options=dict(pos_x='-2000um',\n",
    "                                            pos_y='-2000um',\n",
    "                                            chip='Q_chip',\n",
    "                                            connection_pads=cp0))]\n",
    "q1=[TransmonPocket6(design, 'Q1', options=dict(pos_x='2000um',\n",
    "                                            pos_y='-2000um',\n",
    "                                            chip='Q_chip',\n",
    "                                            connection_pads=cp1))]\n",
    "qubits=q0+q1\n",
    "\n",
    "q0x=float(qubits[0].options.pos_x.strip('um'))\n",
    "q0y=float(qubits[0].options.pos_y.strip('um'))\n",
    "q1x=float(qubits[1].options.pos_x.strip('um'))\n",
    "q1y=float(qubits[1].options.pos_y.strip('um'))\n",
    "\n",
    "c0 = LeftCoupler(design, \"c0\", options=dict(pos_x=f\"{q0x-150}um\",\n",
    "                                              pos_y=f\"{q0y+140}um\",\n",
    "                                              pad_width=\"150um\",\n",
    "                                              pad_height=\"30um\",\n",
    "                                              cpw_stub_height=\"200um\",\n",
    "                                              chip=\"C_chip\"))\n",
    "c1 = RightCoupler(design, \"c1\", options=dict(pos_x=f\"{q1x+150}um\",\n",
    "                                              pos_y=f\"{q1y+140}um\",\n",
    "                                              pad_width=\"150um\",\n",
    "                                              pad_height=\"30um\",\n",
    "                                              cpw_stub_height=\"200um\",\n",
    "                                              chip=\"C_chip\"))  \n",
    "\n",
    "design.rebuild()\n",
    "gui.rebuild()\n",
    "gui.autoscale()"
   ]
  },
  {
   "cell_type": "markdown",
   "metadata": {},
   "source": [
    "# Launchpad"
   ]
  },
  {
   "cell_type": "code",
   "execution_count": 10,
   "metadata": {},
   "outputs": [],
   "source": [
    "lpL=LaunchpadWirebondCoupled(design, 'lpL',\n",
    "                                         options = dict(chip=\"C_chip\",\n",
    "                                         pos_x = '-3000um',\n",
    "                                         pos_y = '2000um',\n",
    "                                         lead_length = '30um'))\n",
    "lpR=LaunchpadWirebondCoupled(design, 'lpR',\n",
    "                                         options = dict(chip=\"C_chip\",\n",
    "                                         pos_x = '3000um',\n",
    "                                         pos_y = '2000um',\n",
    "                                         orientation='180',\n",
    "                                         lead_length = '30um'))"
   ]
  },
  {
   "cell_type": "markdown",
   "metadata": {},
   "source": [
    "# Feedline"
   ]
  },
  {
   "cell_type": "code",
   "execution_count": 11,
   "metadata": {},
   "outputs": [],
   "source": [
    "clt0 = CoupledLineTee(design, \"clt0\", \n",
    "                        options=dict(pos_x='-2000um',\n",
    "                                    pos_y='2000um', \n",
    "                                    coupling_length='300um',\n",
    "                                    chip=\"C_chip\",\n",
    "                                    down_length='300um',\n",
    "                                    mirror=True,\n",
    "                                    open_termination=True))\n",
    "clt1 = CoupledLineTee(design, \"clt1\", \n",
    "                        options=dict(pos_x=\"2000um\",\n",
    "                                    pos_y='2000um',\n",
    "                                    coupling_length='300um', \n",
    "                                    chip=\"C_chip\",\n",
    "                                    down_length='300um',\n",
    "                                    mirror=False,\n",
    "                                    open_termination=True))\n"
   ]
  },
  {
   "cell_type": "code",
   "execution_count": 12,
   "metadata": {},
   "outputs": [],
   "source": [
    "fl0=RouteStraight(design, 'fl0',options=Dict(chip=\"C_chip\", pin_inputs=Dict(start_pin=Dict(\n",
    "                                                            component='lpL',\n",
    "                                                            pin='tie'),\n",
    "                                                            end_pin=Dict(\n",
    "                                                            component='clt0',\n",
    "                                                            pin='prime_start'))))\n",
    "fl1=RouteStraight(design, 'fl1',options=Dict(chip=\"C_chip\",pin_inputs=Dict(start_pin=Dict(\n",
    "                                                            component='clt0',\n",
    "                                                            pin='prime_end'),\n",
    "                                                            end_pin=Dict(\n",
    "                                                            component='clt1',\n",
    "                                                            pin='prime_start'))))\n",
    "fl2=RouteStraight(design, 'fl2',options=Dict(chip=\"C_chip\",pin_inputs=Dict(start_pin=Dict(\n",
    "                                                            component='clt1',\n",
    "                                                            pin='prime_end'),\n",
    "                                                            end_pin=Dict(\n",
    "                                                            component='lpR',\n",
    "                                                            pin='tie'))))"
   ]
  },
  {
   "cell_type": "markdown",
   "metadata": {},
   "source": [
    "# Readout Resonator"
   ]
  },
  {
   "cell_type": "code",
   "execution_count": 13,
   "metadata": {},
   "outputs": [],
   "source": [
    "from collections import OrderedDict\n",
    "jogs=OrderedDict()\n",
    "def connect(component_name: str, component1: str, pin1: str, component2: str, pin2: str,\n",
    "            length: str, start_jogged_extension: OrderedDict, end_jogged_extension: OrderedDict,\n",
    "            spacing: str, asymmetry='0 um',  start_straight='0 um', end_straight='0 um', flip=False):\n",
    "    \"\"\"Connect two pins with a CPW.\"\"\"\n",
    "    myoptions = Dict(\n",
    "        chip=\"C_chip\",\n",
    "        pin_inputs=Dict(\n",
    "            start_pin=Dict(\n",
    "                component=component1,\n",
    "                pin=pin1),\n",
    "            end_pin=Dict(\n",
    "                component=component2,\n",
    "                pin=pin2)),\n",
    "        lead=Dict(\n",
    "            start_straight=start_straight,\n",
    "            end_straight=end_straight,\n",
    "            start_jogged_extension=start_jogged_extension,\n",
    "            end_jogged_extension=end_jogged_extension),\n",
    "        total_length=length,\n",
    "        fillet = '99.9um',\n",
    "        meander=dict(asymmetry=asymmetry,\n",
    "                     spacing=spacing))\n",
    "    myoptions.meander.lead_direction_inverted = 'true' if flip else 'false'\n",
    "    return RouteMeander(design, component_name, myoptions)"
   ]
  },
  {
   "cell_type": "code",
   "execution_count": 14,
   "metadata": {},
   "outputs": [],
   "source": [
    "rr0=connect('rr0', 'clt0', 'second_end', 'c0', 'in',\n",
    "            resonator_length_2[1],jogs,jogs, \n",
    "            '400um','0um', '100um', '100um')\n",
    "rr1=connect('rr1', 'clt1', 'second_end', 'c1', 'in',\n",
    "            resonator_length_2[0],jogs,jogs, \n",
    "            '400um','0um', '100um', '100um')\n",
    "bus=connect('bus', 'Q0', 'down', 'Q1', 'down',\n",
    "            resonator_length_2[2],jogs,jogs, \n",
    "            '300um','-800um', '100um', '100um')            "
   ]
  },
  {
   "cell_type": "markdown",
   "metadata": {},
   "source": [
    "# LOM Analysis"
   ]
  },
  {
   "cell_type": "code",
   "execution_count": 15,
   "metadata": {},
   "outputs": [],
   "source": [
    "from qiskit_metal.analyses.quantization import LOManalysis\n",
    "c1 = LOManalysis(design, \"q3d\")"
   ]
  },
  {
   "cell_type": "code",
   "execution_count": 16,
   "metadata": {},
   "outputs": [
    {
     "data": {
      "text/plain": [
       "{'name': 'Setup',\n",
       " 'reuse_selected_design': True,\n",
       " 'reuse_setup': True,\n",
       " 'freq_ghz': '5.18',\n",
       " 'save_fields': False,\n",
       " 'enabled': True,\n",
       " 'max_passes': 10,\n",
       " 'min_passes': 2,\n",
       " 'min_converged_passes': 2,\n",
       " 'percent_error': 0.5,\n",
       " 'percent_refinement': 30,\n",
       " 'auto_increase_solution_order': 'False',\n",
       " 'solution_order': 'Medium',\n",
       " 'solver_type': 'Iterative'}"
      ]
     },
     "execution_count": 16,
     "metadata": {},
     "output_type": "execute_result"
    }
   ],
   "source": [
    "c1.sim.setup.max_passes = 10\n",
    "c1.sim.setup_update(freq_ghz='5.18',solution_order = 'Medium', auto_increase_solution_order = 'False')\n",
    "c1.sim.setup"
   ]
  },
  {
   "cell_type": "code",
   "execution_count": 23,
   "metadata": {},
   "outputs": [
    {
     "name": "stdout",
     "output_type": "stream",
     "text": [
      "Warning! 3 COM references still alive\n",
      "Ansys will likely refuse to shut down\n"
     ]
    }
   ],
   "source": [
    "c1.sim.close()"
   ]
  },
  {
   "cell_type": "code",
   "execution_count": 18,
   "metadata": {},
   "outputs": [
    {
     "name": "stderr",
     "output_type": "stream",
     "text": [
      "INFO 10:53PM [get_matrix]: Exporting matrix data to (C:\\Users\\kimje\\AppData\\Local\\Temp\\tmp9iepvfjy.txt, C, , Setup:LastAdaptive, \"Original\", \"ohm\", \"nH\", \"fF\", \"mSie\", 4780000000, Maxwell, 1, False\n",
      "INFO 10:53PM [get_matrix]: Exporting matrix data to (C:\\Users\\kimje\\AppData\\Local\\Temp\\tmpr6hqhp8d.txt, C, , Setup:AdaptivePass, \"Original\", \"ohm\", \"nH\", \"fF\", \"mSie\", 4780000000, Maxwell, 1, False\n",
      "INFO 10:53PM [get_matrix]: Exporting matrix data to (C:\\Users\\kimje\\AppData\\Local\\Temp\\tmpqpn_hibd.txt, C, , Setup:AdaptivePass, \"Original\", \"ohm\", \"nH\", \"fF\", \"mSie\", 4780000000, Maxwell, 2, False\n",
      "INFO 10:53PM [get_matrix]: Exporting matrix data to (C:\\Users\\kimje\\AppData\\Local\\Temp\\tmpygu9vy6o.txt, C, , Setup:AdaptivePass, \"Original\", \"ohm\", \"nH\", \"fF\", \"mSie\", 4780000000, Maxwell, 3, False\n",
      "INFO 10:53PM [get_matrix]: Exporting matrix data to (C:\\Users\\kimje\\AppData\\Local\\Temp\\tmp8ewo2jzr.txt, C, , Setup:AdaptivePass, \"Original\", \"ohm\", \"nH\", \"fF\", \"mSie\", 4780000000, Maxwell, 4, False\n",
      "INFO 10:53PM [get_matrix]: Exporting matrix data to (C:\\Users\\kimje\\AppData\\Local\\Temp\\tmp67plmecz.txt, C, , Setup:AdaptivePass, \"Original\", \"ohm\", \"nH\", \"fF\", \"mSie\", 4780000000, Maxwell, 5, False\n",
      "INFO 10:53PM [get_matrix]: Exporting matrix data to (C:\\Users\\kimje\\AppData\\Local\\Temp\\tmp8nx99zwe.txt, C, , Setup:AdaptivePass, \"Original\", \"ohm\", \"nH\", \"fF\", \"mSie\", 4780000000, Maxwell, 6, False\n",
      "INFO 10:53PM [get_matrix]: Exporting matrix data to (C:\\Users\\kimje\\AppData\\Local\\Temp\\tmpvi7zv_1j.txt, C, , Setup:AdaptivePass, \"Original\", \"ohm\", \"nH\", \"fF\", \"mSie\", 4780000000, Maxwell, 7, False\n",
      "INFO 10:53PM [get_matrix]: Exporting matrix data to (C:\\Users\\kimje\\AppData\\Local\\Temp\\tmpe0wpb4nk.txt, C, , Setup:AdaptivePass, \"Original\", \"ohm\", \"nH\", \"fF\", \"mSie\", 4780000000, Maxwell, 8, False\n",
      "INFO 10:53PM [get_matrix]: Exporting matrix data to (C:\\Users\\kimje\\AppData\\Local\\Temp\\tmp6hcd7ccu.txt, C, , Setup:AdaptivePass, \"Original\", \"ohm\", \"nH\", \"fF\", \"mSie\", 4780000000, Maxwell, 9, False\n",
      "INFO 10:53PM [get_matrix]: Exporting matrix data to (C:\\Users\\kimje\\AppData\\Local\\Temp\\tmp2lpoa747.txt, C, , Setup:AdaptivePass, \"Original\", \"ohm\", \"nH\", \"fF\", \"mSie\", 4780000000, Maxwell, 10, False\n"
     ]
    },
    {
     "data": {
      "text/html": [
       "<div>\n",
       "<style scoped>\n",
       "    .dataframe tbody tr th:only-of-type {\n",
       "        vertical-align: middle;\n",
       "    }\n",
       "\n",
       "    .dataframe tbody tr th {\n",
       "        vertical-align: top;\n",
       "    }\n",
       "\n",
       "    .dataframe thead th {\n",
       "        text-align: right;\n",
       "    }\n",
       "</style>\n",
       "<table border=\"1\" class=\"dataframe\">\n",
       "  <thead>\n",
       "    <tr style=\"text-align: right;\">\n",
       "      <th></th>\n",
       "      <th>down_connector_pad_Q0</th>\n",
       "      <th>ground</th>\n",
       "      <th>pad_bot_Q0</th>\n",
       "      <th>pad_top_Q0</th>\n",
       "      <th>quad_coupler_c0</th>\n",
       "    </tr>\n",
       "  </thead>\n",
       "  <tbody>\n",
       "    <tr>\n",
       "      <th>down_connector_pad_Q0</th>\n",
       "      <td>58.191000</td>\n",
       "      <td>-47.111</td>\n",
       "      <td>-9.77650</td>\n",
       "      <td>-0.91115</td>\n",
       "      <td>-0.011243</td>\n",
       "    </tr>\n",
       "    <tr>\n",
       "      <th>ground</th>\n",
       "      <td>-47.111000</td>\n",
       "      <td>474.680</td>\n",
       "      <td>-143.78000</td>\n",
       "      <td>-147.93000</td>\n",
       "      <td>-69.254000</td>\n",
       "    </tr>\n",
       "    <tr>\n",
       "      <th>pad_bot_Q0</th>\n",
       "      <td>-9.776500</td>\n",
       "      <td>-143.780</td>\n",
       "      <td>181.20000</td>\n",
       "      <td>-26.56200</td>\n",
       "      <td>-0.300380</td>\n",
       "    </tr>\n",
       "    <tr>\n",
       "      <th>pad_top_Q0</th>\n",
       "      <td>-0.911150</td>\n",
       "      <td>-147.930</td>\n",
       "      <td>-26.56200</td>\n",
       "      <td>178.94000</td>\n",
       "      <td>-2.864600</td>\n",
       "    </tr>\n",
       "    <tr>\n",
       "      <th>quad_coupler_c0</th>\n",
       "      <td>-0.011243</td>\n",
       "      <td>-69.254</td>\n",
       "      <td>-0.30038</td>\n",
       "      <td>-2.86460</td>\n",
       "      <td>72.586000</td>\n",
       "    </tr>\n",
       "  </tbody>\n",
       "</table>\n",
       "</div>"
      ],
      "text/plain": [
       "                       down_connector_pad_Q0   ground  pad_bot_Q0  pad_top_Q0  \\\n",
       "down_connector_pad_Q0              58.191000  -47.111    -9.77650    -0.91115   \n",
       "ground                            -47.111000  474.680  -143.78000  -147.93000   \n",
       "pad_bot_Q0                         -9.776500 -143.780   181.20000   -26.56200   \n",
       "pad_top_Q0                         -0.911150 -147.930   -26.56200   178.94000   \n",
       "quad_coupler_c0                    -0.011243  -69.254    -0.30038    -2.86460   \n",
       "\n",
       "                       quad_coupler_c0  \n",
       "down_connector_pad_Q0        -0.011243  \n",
       "ground                      -69.254000  \n",
       "pad_bot_Q0                   -0.300380  \n",
       "pad_top_Q0                   -2.864600  \n",
       "quad_coupler_c0              72.586000  "
      ]
     },
     "execution_count": 18,
     "metadata": {},
     "output_type": "execute_result"
    }
   ],
   "source": [
    "#c1.sim.run(components=['Q0','c0'], open_terminations=[('Q0', 'down'), ('c0', 'in')])\n",
    "c1.sim._get_results_from_renderer()\n",
    "c1.sim.capacitance_matrix"
   ]
  },
  {
   "cell_type": "code",
   "execution_count": 19,
   "metadata": {},
   "outputs": [
    {
     "name": "stdout",
     "output_type": "stream",
     "text": [
      "[2, 3] [4 0]\n",
      "Predicted Values\n",
      "\n",
      "Transmon Properties\n",
      "f_Q 4.491471 [GHz]\n",
      "EC 184.568236 [MHz]\n",
      "EJ 14.854145 [GHz]\n",
      "alpha -204.704561 [MHz]\n",
      "dispersion 0.063400 [KHz]\n",
      "Lq 10.995564 [nH]\n",
      "Cq 104.948872 [fF]\n",
      "T1 9980.572685 [us]\n",
      "\n",
      "**Coupling Properties**\n",
      "\n",
      "tCqbus1 -1.293251 [fF]\n",
      "gbus1_in_MHz -15.325097 [MHz]\n",
      "χ_bus1 -0.008969 [MHz]\n",
      "1/T1bus1 8.995801 [Hz]\n",
      "T1bus1 17692.136799 [us]\n",
      "\n",
      "tCqbus2 4.395055 [fF]\n",
      "gbus2_in_MHz 60.366155 [MHz]\n",
      "χ_bus2 -0.076664 [MHz]\n",
      "1/T1bus2 6.950673 [Hz]\n",
      "T1bus2 22897.774651 [us]\n",
      "Bus-Bus Couplings\n",
      "gbus1_2 0.535224 [MHz]\n"
     ]
    },
    {
     "data": {
      "text/html": [
       "<div>\n",
       "<style scoped>\n",
       "    .dataframe tbody tr th:only-of-type {\n",
       "        vertical-align: middle;\n",
       "    }\n",
       "\n",
       "    .dataframe tbody tr th {\n",
       "        vertical-align: top;\n",
       "    }\n",
       "\n",
       "    .dataframe thead th {\n",
       "        text-align: right;\n",
       "    }\n",
       "</style>\n",
       "<table border=\"1\" class=\"dataframe\">\n",
       "  <thead>\n",
       "    <tr style=\"text-align: right;\">\n",
       "      <th></th>\n",
       "      <th>fQ</th>\n",
       "      <th>EC</th>\n",
       "      <th>EJ</th>\n",
       "      <th>alpha</th>\n",
       "      <th>dispersion</th>\n",
       "      <th>gbus</th>\n",
       "      <th>chi_in_MHz</th>\n",
       "      <th>χr MHz</th>\n",
       "      <th>gr MHz</th>\n",
       "    </tr>\n",
       "  </thead>\n",
       "  <tbody>\n",
       "    <tr>\n",
       "      <th>1</th>\n",
       "      <td>5.785559</td>\n",
       "      <td>315.006642</td>\n",
       "      <td>14.854145</td>\n",
       "      <td>-363.708763</td>\n",
       "      <td>20.399476</td>\n",
       "      <td>[-77.27904326975295, 35.666365787491294]</td>\n",
       "      <td>[-0.9393967038668886, -0.0819795116208736]</td>\n",
       "      <td>0.939397</td>\n",
       "      <td>77.279043</td>\n",
       "    </tr>\n",
       "    <tr>\n",
       "      <th>2</th>\n",
       "      <td>4.688951</td>\n",
       "      <td>201.994337</td>\n",
       "      <td>14.854145</td>\n",
       "      <td>-225.315547</td>\n",
       "      <td>0.188611</td>\n",
       "      <td>[-3.399918230634072, 53.061463039263096]</td>\n",
       "      <td>[-0.0005390519612973164, -0.06997454323891793]</td>\n",
       "      <td>0.000539</td>\n",
       "      <td>3.399918</td>\n",
       "    </tr>\n",
       "    <tr>\n",
       "      <th>3</th>\n",
       "      <td>4.555942</td>\n",
       "      <td>190.162117</td>\n",
       "      <td>14.854145</td>\n",
       "      <td>-211.299384</td>\n",
       "      <td>0.09146</td>\n",
       "      <td>[-9.991297462572216, 59.43866791025907]</td>\n",
       "      <td>[-0.004067672800533768, -0.07847895920529005]</td>\n",
       "      <td>0.004068</td>\n",
       "      <td>9.991297</td>\n",
       "    </tr>\n",
       "    <tr>\n",
       "      <th>4</th>\n",
       "      <td>4.50999</td>\n",
       "      <td>186.165602</td>\n",
       "      <td>14.854145</td>\n",
       "      <td>-206.585679</td>\n",
       "      <td>0.070513</td>\n",
       "      <td>[-10.019036046333751, 58.167978931204956]</td>\n",
       "      <td>[-0.003905469471436769, -0.07230266056983248]</td>\n",
       "      <td>0.003905</td>\n",
       "      <td>10.019036</td>\n",
       "    </tr>\n",
       "    <tr>\n",
       "      <th>5</th>\n",
       "      <td>4.51181</td>\n",
       "      <td>186.323013</td>\n",
       "      <td>14.854145</td>\n",
       "      <td>-206.771142</td>\n",
       "      <td>0.071251</td>\n",
       "      <td>[-12.596885500784968, 59.232375504819544]</td>\n",
       "      <td>[-0.006185027980067806, -0.07508809522970526]</td>\n",
       "      <td>0.006185</td>\n",
       "      <td>12.596886</td>\n",
       "    </tr>\n",
       "    <tr>\n",
       "      <th>6</th>\n",
       "      <td>4.51284</td>\n",
       "      <td>186.41218</td>\n",
       "      <td>14.854145</td>\n",
       "      <td>-206.876206</td>\n",
       "      <td>0.071672</td>\n",
       "      <td>[-14.019730150415121, 59.53769930631746]</td>\n",
       "      <td>[-0.007669097105811101, -0.07593015261481789]</td>\n",
       "      <td>0.007669</td>\n",
       "      <td>14.019730</td>\n",
       "    </tr>\n",
       "    <tr>\n",
       "      <th>7</th>\n",
       "      <td>4.508314</td>\n",
       "      <td>186.020737</td>\n",
       "      <td>14.854145</td>\n",
       "      <td>-206.415013</td>\n",
       "      <td>0.06984</td>\n",
       "      <td>[-14.367782018451786, 60.892921658185415]</td>\n",
       "      <td>[-0.0080180719773452, -0.07912365653514689]</td>\n",
       "      <td>0.008018</td>\n",
       "      <td>14.367782</td>\n",
       "    </tr>\n",
       "    <tr>\n",
       "      <th>8</th>\n",
       "      <td>4.495078</td>\n",
       "      <td>184.87874</td>\n",
       "      <td>14.854145</td>\n",
       "      <td>-205.070092</td>\n",
       "      <td>0.064731</td>\n",
       "      <td>[-15.008417526755165, 60.71480831161509]</td>\n",
       "      <td>[-0.008633583364216215, -0.07778857259273392]</td>\n",
       "      <td>0.008634</td>\n",
       "      <td>15.008418</td>\n",
       "    </tr>\n",
       "    <tr>\n",
       "      <th>9</th>\n",
       "      <td>4.491471</td>\n",
       "      <td>184.568236</td>\n",
       "      <td>14.854145</td>\n",
       "      <td>-204.704561</td>\n",
       "      <td>0.0634</td>\n",
       "      <td>[-15.325097171718436, 60.366154997329936]</td>\n",
       "      <td>[-0.008969263931573, -0.07666429435407236]</td>\n",
       "      <td>0.008969</td>\n",
       "      <td>15.325097</td>\n",
       "    </tr>\n",
       "  </tbody>\n",
       "</table>\n",
       "</div>"
      ],
      "text/plain": [
       "         fQ          EC         EJ       alpha dispersion  \\\n",
       "1  5.785559  315.006642  14.854145 -363.708763  20.399476   \n",
       "2  4.688951  201.994337  14.854145 -225.315547   0.188611   \n",
       "3  4.555942  190.162117  14.854145 -211.299384    0.09146   \n",
       "4   4.50999  186.165602  14.854145 -206.585679   0.070513   \n",
       "5   4.51181  186.323013  14.854145 -206.771142   0.071251   \n",
       "6   4.51284   186.41218  14.854145 -206.876206   0.071672   \n",
       "7  4.508314  186.020737  14.854145 -206.415013    0.06984   \n",
       "8  4.495078   184.87874  14.854145 -205.070092   0.064731   \n",
       "9  4.491471  184.568236  14.854145 -204.704561     0.0634   \n",
       "\n",
       "                                        gbus  \\\n",
       "1   [-77.27904326975295, 35.666365787491294]   \n",
       "2   [-3.399918230634072, 53.061463039263096]   \n",
       "3    [-9.991297462572216, 59.43866791025907]   \n",
       "4  [-10.019036046333751, 58.167978931204956]   \n",
       "5  [-12.596885500784968, 59.232375504819544]   \n",
       "6   [-14.019730150415121, 59.53769930631746]   \n",
       "7  [-14.367782018451786, 60.892921658185415]   \n",
       "8   [-15.008417526755165, 60.71480831161509]   \n",
       "9  [-15.325097171718436, 60.366154997329936]   \n",
       "\n",
       "                                       chi_in_MHz    χr MHz     gr MHz  \n",
       "1      [-0.9393967038668886, -0.0819795116208736]  0.939397  77.279043  \n",
       "2  [-0.0005390519612973164, -0.06997454323891793]  0.000539   3.399918  \n",
       "3   [-0.004067672800533768, -0.07847895920529005]  0.004068   9.991297  \n",
       "4   [-0.003905469471436769, -0.07230266056983248]  0.003905  10.019036  \n",
       "5   [-0.006185027980067806, -0.07508809522970526]  0.006185  12.596886  \n",
       "6   [-0.007669097105811101, -0.07593015261481789]  0.007669  14.019730  \n",
       "7     [-0.0080180719773452, -0.07912365653514689]  0.008018  14.367782  \n",
       "8   [-0.008633583364216215, -0.07778857259273392]  0.008634  15.008418  \n",
       "9      [-0.008969263931573, -0.07666429435407236]  0.008969  15.325097  "
      ]
     },
     "execution_count": 19,
     "metadata": {},
     "output_type": "execute_result"
    }
   ],
   "source": [
    "c1.setup.junctions = Dict({'Lj': 11, 'Cj': 2})\n",
    "c1.setup.freq_readout = 7.79\n",
    "c1.setup.freq_bus = [9.06]\n",
    "c1.run_lom()\n",
    "c1.lumped_oscillator_all"
   ]
  },
  {
   "cell_type": "code",
   "execution_count": 21,
   "metadata": {},
   "outputs": [
    {
     "name": "stderr",
     "output_type": "stream",
     "text": [
      "INFO 11:03PM [get_matrix]: Exporting matrix data to (C:\\Users\\kimje\\AppData\\Local\\Temp\\tmp8tsf1czv.txt, C, , Setup:LastAdaptive, \"Original\", \"ohm\", \"nH\", \"fF\", \"mSie\", 4810000000, Maxwell, 1, False\n",
      "INFO 11:03PM [get_matrix]: Exporting matrix data to (C:\\Users\\kimje\\AppData\\Local\\Temp\\tmphm2ru9n1.txt, C, , Setup:AdaptivePass, \"Original\", \"ohm\", \"nH\", \"fF\", \"mSie\", 4810000000, Maxwell, 1, False\n",
      "INFO 11:03PM [get_matrix]: Exporting matrix data to (C:\\Users\\kimje\\AppData\\Local\\Temp\\tmp1x3jg5j6.txt, C, , Setup:AdaptivePass, \"Original\", \"ohm\", \"nH\", \"fF\", \"mSie\", 4810000000, Maxwell, 2, False\n",
      "INFO 11:03PM [get_matrix]: Exporting matrix data to (C:\\Users\\kimje\\AppData\\Local\\Temp\\tmpyvcdrr5e.txt, C, , Setup:AdaptivePass, \"Original\", \"ohm\", \"nH\", \"fF\", \"mSie\", 4810000000, Maxwell, 3, False\n",
      "INFO 11:03PM [get_matrix]: Exporting matrix data to (C:\\Users\\kimje\\AppData\\Local\\Temp\\tmppi3_n9ly.txt, C, , Setup:AdaptivePass, \"Original\", \"ohm\", \"nH\", \"fF\", \"mSie\", 4810000000, Maxwell, 4, False\n",
      "INFO 11:03PM [get_matrix]: Exporting matrix data to (C:\\Users\\kimje\\AppData\\Local\\Temp\\tmp_e799huj.txt, C, , Setup:AdaptivePass, \"Original\", \"ohm\", \"nH\", \"fF\", \"mSie\", 4810000000, Maxwell, 5, False\n",
      "INFO 11:03PM [get_matrix]: Exporting matrix data to (C:\\Users\\kimje\\AppData\\Local\\Temp\\tmprnj7yqjl.txt, C, , Setup:AdaptivePass, \"Original\", \"ohm\", \"nH\", \"fF\", \"mSie\", 4810000000, Maxwell, 6, False\n",
      "INFO 11:03PM [get_matrix]: Exporting matrix data to (C:\\Users\\kimje\\AppData\\Local\\Temp\\tmpqtto2_xz.txt, C, , Setup:AdaptivePass, \"Original\", \"ohm\", \"nH\", \"fF\", \"mSie\", 4810000000, Maxwell, 7, False\n",
      "INFO 11:03PM [get_matrix]: Exporting matrix data to (C:\\Users\\kimje\\AppData\\Local\\Temp\\tmp05fyr24d.txt, C, , Setup:AdaptivePass, \"Original\", \"ohm\", \"nH\", \"fF\", \"mSie\", 4810000000, Maxwell, 8, False\n"
     ]
    },
    {
     "data": {
      "text/html": [
       "<div>\n",
       "<style scoped>\n",
       "    .dataframe tbody tr th:only-of-type {\n",
       "        vertical-align: middle;\n",
       "    }\n",
       "\n",
       "    .dataframe tbody tr th {\n",
       "        vertical-align: top;\n",
       "    }\n",
       "\n",
       "    .dataframe thead th {\n",
       "        text-align: right;\n",
       "    }\n",
       "</style>\n",
       "<table border=\"1\" class=\"dataframe\">\n",
       "  <thead>\n",
       "    <tr style=\"text-align: right;\">\n",
       "      <th></th>\n",
       "      <th>down_connector_pad_Q1</th>\n",
       "      <th>ground</th>\n",
       "      <th>pad_bot_Q1</th>\n",
       "      <th>pad_top_Q1</th>\n",
       "      <th>quad_coupler_c1</th>\n",
       "    </tr>\n",
       "  </thead>\n",
       "  <tbody>\n",
       "    <tr>\n",
       "      <th>down_connector_pad_Q1</th>\n",
       "      <td>57.174000</td>\n",
       "      <td>-46.337</td>\n",
       "      <td>-9.58890</td>\n",
       "      <td>-0.91982</td>\n",
       "      <td>-0.010547</td>\n",
       "    </tr>\n",
       "    <tr>\n",
       "      <th>ground</th>\n",
       "      <td>-46.337000</td>\n",
       "      <td>471.790</td>\n",
       "      <td>-142.83000</td>\n",
       "      <td>-146.42000</td>\n",
       "      <td>-68.485000</td>\n",
       "    </tr>\n",
       "    <tr>\n",
       "      <th>pad_bot_Q1</th>\n",
       "      <td>-9.588900</td>\n",
       "      <td>-142.830</td>\n",
       "      <td>179.61000</td>\n",
       "      <td>-26.50100</td>\n",
       "      <td>-0.293530</td>\n",
       "    </tr>\n",
       "    <tr>\n",
       "      <th>pad_top_Q1</th>\n",
       "      <td>-0.919820</td>\n",
       "      <td>-146.420</td>\n",
       "      <td>-26.50100</td>\n",
       "      <td>177.01000</td>\n",
       "      <td>-2.716100</td>\n",
       "    </tr>\n",
       "    <tr>\n",
       "      <th>quad_coupler_c1</th>\n",
       "      <td>-0.010547</td>\n",
       "      <td>-68.485</td>\n",
       "      <td>-0.29353</td>\n",
       "      <td>-2.71610</td>\n",
       "      <td>71.613000</td>\n",
       "    </tr>\n",
       "  </tbody>\n",
       "</table>\n",
       "</div>"
      ],
      "text/plain": [
       "                       down_connector_pad_Q1   ground  pad_bot_Q1  pad_top_Q1  \\\n",
       "down_connector_pad_Q1              57.174000  -46.337    -9.58890    -0.91982   \n",
       "ground                            -46.337000  471.790  -142.83000  -146.42000   \n",
       "pad_bot_Q1                         -9.588900 -142.830   179.61000   -26.50100   \n",
       "pad_top_Q1                         -0.919820 -146.420   -26.50100   177.01000   \n",
       "quad_coupler_c1                    -0.010547  -68.485    -0.29353    -2.71610   \n",
       "\n",
       "                       quad_coupler_c1  \n",
       "down_connector_pad_Q1        -0.010547  \n",
       "ground                      -68.485000  \n",
       "pad_bot_Q1                   -0.293530  \n",
       "pad_top_Q1                   -2.716100  \n",
       "quad_coupler_c1              71.613000  "
      ]
     },
     "execution_count": 21,
     "metadata": {},
     "output_type": "execute_result"
    }
   ],
   "source": [
    "#c1.sim.run(components=['Q1','c1'], open_terminations=[('Q1', 'down'), ('c1', 'in')])\n",
    "c1.sim._get_results_from_renderer()\n",
    "c1.sim.capacitance_matrix"
   ]
  },
  {
   "cell_type": "code",
   "execution_count": 22,
   "metadata": {},
   "outputs": [
    {
     "name": "stdout",
     "output_type": "stream",
     "text": [
      "[2, 3] [4 0]\n",
      "Predicted Values\n",
      "\n",
      "Transmon Properties\n",
      "f_Q 4.507118 [GHz]\n",
      "EC 185.917434 [MHz]\n",
      "EJ 14.854145 [GHz]\n",
      "alpha -206.293318 [MHz]\n",
      "dispersion 0.069364 [KHz]\n",
      "Lq 10.995564 [nH]\n",
      "Cq 104.187260 [fF]\n",
      "T1 10138.729062 [us]\n",
      "\n",
      "**Coupling Properties**\n",
      "\n",
      "tCqbus1 -1.224488 [fF]\n",
      "gbus1_in_MHz -14.237163 [MHz]\n",
      "χ_bus1 -0.008776 [MHz]\n",
      "1/T1bus1 8.927096 [Hz]\n",
      "T1bus1 17828.299021 [us]\n",
      "\n",
      "tCqbus2 4.288438 [fF]\n",
      "gbus2_in_MHz 59.237308 [MHz]\n",
      "χ_bus2 -0.074804 [MHz]\n",
      "1/T1bus2 6.770625 [Hz]\n",
      "T1bus2 23506.684296 [us]\n",
      "Bus-Bus Couplings\n",
      "gbus1_2 0.492788 [MHz]\n"
     ]
    },
    {
     "data": {
      "text/html": [
       "<div>\n",
       "<style scoped>\n",
       "    .dataframe tbody tr th:only-of-type {\n",
       "        vertical-align: middle;\n",
       "    }\n",
       "\n",
       "    .dataframe tbody tr th {\n",
       "        vertical-align: top;\n",
       "    }\n",
       "\n",
       "    .dataframe thead th {\n",
       "        text-align: right;\n",
       "    }\n",
       "</style>\n",
       "<table border=\"1\" class=\"dataframe\">\n",
       "  <thead>\n",
       "    <tr style=\"text-align: right;\">\n",
       "      <th></th>\n",
       "      <th>fQ</th>\n",
       "      <th>EC</th>\n",
       "      <th>EJ</th>\n",
       "      <th>alpha</th>\n",
       "      <th>dispersion</th>\n",
       "      <th>gbus</th>\n",
       "      <th>chi_in_MHz</th>\n",
       "      <th>χr MHz</th>\n",
       "      <th>gr MHz</th>\n",
       "    </tr>\n",
       "  </thead>\n",
       "  <tbody>\n",
       "    <tr>\n",
       "      <th>1</th>\n",
       "      <td>5.423096</td>\n",
       "      <td>274.532378</td>\n",
       "      <td>14.854145</td>\n",
       "      <td>-313.204209</td>\n",
       "      <td>5.366265</td>\n",
       "      <td>[-67.03890464038305, 70.21534909679127]</td>\n",
       "      <td>[-0.5363505067277822, -0.23001998093274292]</td>\n",
       "      <td>0.536351</td>\n",
       "      <td>67.038905</td>\n",
       "    </tr>\n",
       "    <tr>\n",
       "      <th>2</th>\n",
       "      <td>4.981833</td>\n",
       "      <td>229.449161</td>\n",
       "      <td>14.854145</td>\n",
       "      <td>-258.184728</td>\n",
       "      <td>0.808717</td>\n",
       "      <td>[-4.660970367272075, 56.627017121287736]</td>\n",
       "      <td>[-0.0015619627106529224, -0.10218571311246558]</td>\n",
       "      <td>0.001562</td>\n",
       "      <td>4.660970</td>\n",
       "    </tr>\n",
       "    <tr>\n",
       "      <th>3</th>\n",
       "      <td>4.705034</td>\n",
       "      <td>203.45175</td>\n",
       "      <td>14.854145</td>\n",
       "      <td>-227.048212</td>\n",
       "      <td>0.205283</td>\n",
       "      <td>[-11.599071128462809, 39.15039414294918]</td>\n",
       "      <td>[-0.007170595774612459, -0.03861520079817567]</td>\n",
       "      <td>0.007171</td>\n",
       "      <td>11.599071</td>\n",
       "    </tr>\n",
       "    <tr>\n",
       "      <th>4</th>\n",
       "      <td>4.561968</td>\n",
       "      <td>190.689681</td>\n",
       "      <td>14.854145</td>\n",
       "      <td>-211.922394</td>\n",
       "      <td>0.094597</td>\n",
       "      <td>[-10.829133009465176, 54.23539210399388]</td>\n",
       "      <td>[-0.005376127340547895, -0.0656731880888456]</td>\n",
       "      <td>0.005376</td>\n",
       "      <td>10.829133</td>\n",
       "    </tr>\n",
       "    <tr>\n",
       "      <th>5</th>\n",
       "      <td>4.526914</td>\n",
       "      <td>187.632085</td>\n",
       "      <td>14.854145</td>\n",
       "      <td>-208.314124</td>\n",
       "      <td>0.077651</td>\n",
       "      <td>[-12.954378798667912, 53.250057581136154]</td>\n",
       "      <td>[-0.0074171600527688, -0.061464418022155444]</td>\n",
       "      <td>0.007417</td>\n",
       "      <td>12.954379</td>\n",
       "    </tr>\n",
       "    <tr>\n",
       "      <th>6</th>\n",
       "      <td>4.518199</td>\n",
       "      <td>186.876168</td>\n",
       "      <td>14.854145</td>\n",
       "      <td>-207.423001</td>\n",
       "      <td>0.073896</td>\n",
       "      <td>[-13.488128125927302, 54.808962316805705]</td>\n",
       "      <td>[-0.007968364259852109, -0.06463913685483927]</td>\n",
       "      <td>0.007968</td>\n",
       "      <td>13.488128</td>\n",
       "    </tr>\n",
       "    <tr>\n",
       "      <th>7</th>\n",
       "      <td>4.507118</td>\n",
       "      <td>185.917434</td>\n",
       "      <td>14.854145</td>\n",
       "      <td>-206.293318</td>\n",
       "      <td>0.069364</td>\n",
       "      <td>[-14.23716326143334, 59.23730761227235]</td>\n",
       "      <td>[-0.00877626137426658, -0.07480413873138407]</td>\n",
       "      <td>0.008776</td>\n",
       "      <td>14.237163</td>\n",
       "    </tr>\n",
       "  </tbody>\n",
       "</table>\n",
       "</div>"
      ],
      "text/plain": [
       "         fQ          EC         EJ       alpha dispersion  \\\n",
       "1  5.423096  274.532378  14.854145 -313.204209   5.366265   \n",
       "2  4.981833  229.449161  14.854145 -258.184728   0.808717   \n",
       "3  4.705034   203.45175  14.854145 -227.048212   0.205283   \n",
       "4  4.561968  190.689681  14.854145 -211.922394   0.094597   \n",
       "5  4.526914  187.632085  14.854145 -208.314124   0.077651   \n",
       "6  4.518199  186.876168  14.854145 -207.423001   0.073896   \n",
       "7  4.507118  185.917434  14.854145 -206.293318   0.069364   \n",
       "\n",
       "                                        gbus  \\\n",
       "1    [-67.03890464038305, 70.21534909679127]   \n",
       "2   [-4.660970367272075, 56.627017121287736]   \n",
       "3   [-11.599071128462809, 39.15039414294918]   \n",
       "4   [-10.829133009465176, 54.23539210399388]   \n",
       "5  [-12.954378798667912, 53.250057581136154]   \n",
       "6  [-13.488128125927302, 54.808962316805705]   \n",
       "7    [-14.23716326143334, 59.23730761227235]   \n",
       "\n",
       "                                       chi_in_MHz    χr MHz     gr MHz  \n",
       "1     [-0.5363505067277822, -0.23001998093274292]  0.536351  67.038905  \n",
       "2  [-0.0015619627106529224, -0.10218571311246558]  0.001562   4.660970  \n",
       "3   [-0.007170595774612459, -0.03861520079817567]  0.007171  11.599071  \n",
       "4    [-0.005376127340547895, -0.0656731880888456]  0.005376  10.829133  \n",
       "5    [-0.0074171600527688, -0.061464418022155444]  0.007417  12.954379  \n",
       "6   [-0.007968364259852109, -0.06463913685483927]  0.007968  13.488128  \n",
       "7    [-0.00877626137426658, -0.07480413873138407]  0.008776  14.237163  "
      ]
     },
     "execution_count": 22,
     "metadata": {},
     "output_type": "execute_result"
    }
   ],
   "source": [
    "c1.setup.junctions = Dict({'Lj': 11, 'Cj': 2})\n",
    "c1.setup.freq_readout = 7.60\n",
    "c1.setup.freq_bus = [9.06]\n",
    "c1.run_lom()\n",
    "c1.lumped_oscillator_all"
   ]
  },
  {
   "cell_type": "markdown",
   "metadata": {},
   "source": [
    "# EPR Analysis"
   ]
  },
  {
   "cell_type": "code",
   "execution_count": 15,
   "metadata": {},
   "outputs": [],
   "source": [
    "from qiskit_metal.analyses.quantization import EPRanalysis"
   ]
  },
  {
   "cell_type": "code",
   "execution_count": 16,
   "metadata": {},
   "outputs": [],
   "source": [
    "eig_rd = EPRanalysis(design, \"hfss\")\n",
    "hfss = eig_rd.sim.renderer"
   ]
  },
  {
   "cell_type": "code",
   "execution_count": 17,
   "metadata": {},
   "outputs": [
    {
     "name": "stderr",
     "output_type": "stream",
     "text": [
      "INFO 05:22PM [connect_project]: Connecting to Ansys Desktop API...\n",
      "INFO 05:22PM [load_ansys_project]: \tOpened Ansys App\n",
      "INFO 05:22PM [load_ansys_project]: \tOpened Ansys Desktop v2018.0.0\n",
      "INFO 05:22PM [load_ansys_project]: \tOpened Ansys Project\n",
      "\tFolder:    C:/Users/kimje/Documents/Ansoft/\n",
      "\tProject:   Project21\n",
      "INFO 05:22PM [connect_design]: No active design found (or error getting active design).\n",
      "INFO 05:22PM [connect]: \t Connected to project \"Project21\". No design detected\n"
     ]
    },
    {
     "data": {
      "text/plain": [
       "True"
      ]
     },
     "execution_count": 17,
     "metadata": {},
     "output_type": "execute_result"
    }
   ],
   "source": [
    "hfss.start()"
   ]
  },
  {
   "cell_type": "code",
   "execution_count": 18,
   "metadata": {},
   "outputs": [
    {
     "name": "stderr",
     "output_type": "stream",
     "text": [
      "05:22PM 30s WARNING [activate_ansys_design]: The design_name=Flipchip_5um was not in active project.  Designs in active project are: \n",
      "[].  A new design will be added to the project.  \n",
      "INFO 05:22PM [connect_design]: \tOpened active design\n",
      "\tDesign:    Flipchip_5um [Solution type: Eigenmode]\n",
      "WARNING 05:22PM [connect_setup]: \tNo design setup detected.\n",
      "WARNING 05:22PM [connect_setup]: \tCreating eigenmode default setup.\n",
      "INFO 05:22PM [get_setup]: \tOpened setup `Setup`  (<class 'pyEPR.ansys.HfssEMSetup'>)\n"
     ]
    }
   ],
   "source": [
    "hfss.activate_ansys_design(\"Flipchip_5um\", 'eigenmode')\n",
    "hfss.render_design(['Q0','Q1','bus','c0','c1','lpL','lpR','clt0','clt1','rr0','rr1','fl0','fl1','fl2'],\n",
    "                    [('clt0','prime_end'),('clt1','prime_start'),\n",
    "                    ('bus','start'),('bus','end')],\n",
    "                    box_plus_buffer=True)"
   ]
  },
  {
   "cell_type": "code",
   "execution_count": 46,
   "metadata": {},
   "outputs": [
    {
     "name": "stdout",
     "output_type": "stream",
     "text": [
      "Warning! 12 COM references still alive\n",
      "Ansys will likely refuse to shut down\n"
     ]
    },
    {
     "data": {
      "text/plain": [
       "True"
      ]
     },
     "execution_count": 46,
     "metadata": {},
     "output_type": "execute_result"
    }
   ],
   "source": [
    "hfss.close()"
   ]
  },
  {
   "cell_type": "code",
   "execution_count": null,
   "metadata": {},
   "outputs": [],
   "source": []
  }
 ],
 "metadata": {
  "kernelspec": {
   "display_name": "Python 3.9.10 ('metal')",
   "language": "python",
   "name": "python3"
  },
  "language_info": {
   "codemirror_mode": {
    "name": "ipython",
    "version": 3
   },
   "file_extension": ".py",
   "mimetype": "text/x-python",
   "name": "python",
   "nbconvert_exporter": "python",
   "pygments_lexer": "ipython3",
   "version": "3.9.10"
  },
  "orig_nbformat": 4,
  "vscode": {
   "interpreter": {
    "hash": "ac951534856e2c23f9f162419ca8ae29ffbc7967cf243c458d1cebaa12df0b5c"
   }
  }
 },
 "nbformat": 4,
 "nbformat_minor": 2
}
